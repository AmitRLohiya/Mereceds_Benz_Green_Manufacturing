{
 "cells": [
  {
   "cell_type": "code",
   "execution_count": 199,
   "metadata": {},
   "outputs": [],
   "source": [
    "import pandas as pd\n",
    "import numpy as np\n",
    "import matplotlib.pyplot as plt\n",
    "import seaborn as sns"
   ]
  },
  {
   "cell_type": "code",
   "execution_count": 200,
   "metadata": {},
   "outputs": [],
   "source": [
    "train = pd.read_csv(\"train.csv\")#Reading Train File"
   ]
  },
  {
   "cell_type": "code",
   "execution_count": 201,
   "metadata": {},
   "outputs": [
    {
     "data": {
      "text/html": [
       "<div>\n",
       "<style scoped>\n",
       "    .dataframe tbody tr th:only-of-type {\n",
       "        vertical-align: middle;\n",
       "    }\n",
       "\n",
       "    .dataframe tbody tr th {\n",
       "        vertical-align: top;\n",
       "    }\n",
       "\n",
       "    .dataframe thead th {\n",
       "        text-align: right;\n",
       "    }\n",
       "</style>\n",
       "<table border=\"1\" class=\"dataframe\">\n",
       "  <thead>\n",
       "    <tr style=\"text-align: right;\">\n",
       "      <th></th>\n",
       "      <th>ID</th>\n",
       "      <th>y</th>\n",
       "      <th>X0</th>\n",
       "      <th>X1</th>\n",
       "      <th>X2</th>\n",
       "      <th>X3</th>\n",
       "      <th>X4</th>\n",
       "      <th>X5</th>\n",
       "      <th>X6</th>\n",
       "      <th>X8</th>\n",
       "      <th>...</th>\n",
       "      <th>X375</th>\n",
       "      <th>X376</th>\n",
       "      <th>X377</th>\n",
       "      <th>X378</th>\n",
       "      <th>X379</th>\n",
       "      <th>X380</th>\n",
       "      <th>X382</th>\n",
       "      <th>X383</th>\n",
       "      <th>X384</th>\n",
       "      <th>X385</th>\n",
       "    </tr>\n",
       "  </thead>\n",
       "  <tbody>\n",
       "    <tr>\n",
       "      <th>0</th>\n",
       "      <td>0</td>\n",
       "      <td>130.81</td>\n",
       "      <td>k</td>\n",
       "      <td>v</td>\n",
       "      <td>at</td>\n",
       "      <td>a</td>\n",
       "      <td>d</td>\n",
       "      <td>u</td>\n",
       "      <td>j</td>\n",
       "      <td>o</td>\n",
       "      <td>...</td>\n",
       "      <td>0</td>\n",
       "      <td>0</td>\n",
       "      <td>1</td>\n",
       "      <td>0</td>\n",
       "      <td>0</td>\n",
       "      <td>0</td>\n",
       "      <td>0</td>\n",
       "      <td>0</td>\n",
       "      <td>0</td>\n",
       "      <td>0</td>\n",
       "    </tr>\n",
       "    <tr>\n",
       "      <th>1</th>\n",
       "      <td>6</td>\n",
       "      <td>88.53</td>\n",
       "      <td>k</td>\n",
       "      <td>t</td>\n",
       "      <td>av</td>\n",
       "      <td>e</td>\n",
       "      <td>d</td>\n",
       "      <td>y</td>\n",
       "      <td>l</td>\n",
       "      <td>o</td>\n",
       "      <td>...</td>\n",
       "      <td>1</td>\n",
       "      <td>0</td>\n",
       "      <td>0</td>\n",
       "      <td>0</td>\n",
       "      <td>0</td>\n",
       "      <td>0</td>\n",
       "      <td>0</td>\n",
       "      <td>0</td>\n",
       "      <td>0</td>\n",
       "      <td>0</td>\n",
       "    </tr>\n",
       "    <tr>\n",
       "      <th>2</th>\n",
       "      <td>7</td>\n",
       "      <td>76.26</td>\n",
       "      <td>az</td>\n",
       "      <td>w</td>\n",
       "      <td>n</td>\n",
       "      <td>c</td>\n",
       "      <td>d</td>\n",
       "      <td>x</td>\n",
       "      <td>j</td>\n",
       "      <td>x</td>\n",
       "      <td>...</td>\n",
       "      <td>0</td>\n",
       "      <td>0</td>\n",
       "      <td>0</td>\n",
       "      <td>0</td>\n",
       "      <td>0</td>\n",
       "      <td>0</td>\n",
       "      <td>1</td>\n",
       "      <td>0</td>\n",
       "      <td>0</td>\n",
       "      <td>0</td>\n",
       "    </tr>\n",
       "    <tr>\n",
       "      <th>3</th>\n",
       "      <td>9</td>\n",
       "      <td>80.62</td>\n",
       "      <td>az</td>\n",
       "      <td>t</td>\n",
       "      <td>n</td>\n",
       "      <td>f</td>\n",
       "      <td>d</td>\n",
       "      <td>x</td>\n",
       "      <td>l</td>\n",
       "      <td>e</td>\n",
       "      <td>...</td>\n",
       "      <td>0</td>\n",
       "      <td>0</td>\n",
       "      <td>0</td>\n",
       "      <td>0</td>\n",
       "      <td>0</td>\n",
       "      <td>0</td>\n",
       "      <td>0</td>\n",
       "      <td>0</td>\n",
       "      <td>0</td>\n",
       "      <td>0</td>\n",
       "    </tr>\n",
       "    <tr>\n",
       "      <th>4</th>\n",
       "      <td>13</td>\n",
       "      <td>78.02</td>\n",
       "      <td>az</td>\n",
       "      <td>v</td>\n",
       "      <td>n</td>\n",
       "      <td>f</td>\n",
       "      <td>d</td>\n",
       "      <td>h</td>\n",
       "      <td>d</td>\n",
       "      <td>n</td>\n",
       "      <td>...</td>\n",
       "      <td>0</td>\n",
       "      <td>0</td>\n",
       "      <td>0</td>\n",
       "      <td>0</td>\n",
       "      <td>0</td>\n",
       "      <td>0</td>\n",
       "      <td>0</td>\n",
       "      <td>0</td>\n",
       "      <td>0</td>\n",
       "      <td>0</td>\n",
       "    </tr>\n",
       "  </tbody>\n",
       "</table>\n",
       "<p>5 rows × 378 columns</p>\n",
       "</div>"
      ],
      "text/plain": [
       "   ID       y  X0 X1  X2 X3 X4 X5 X6 X8  ...  X375  X376  X377  X378  X379  \\\n",
       "0   0  130.81   k  v  at  a  d  u  j  o  ...     0     0     1     0     0   \n",
       "1   6   88.53   k  t  av  e  d  y  l  o  ...     1     0     0     0     0   \n",
       "2   7   76.26  az  w   n  c  d  x  j  x  ...     0     0     0     0     0   \n",
       "3   9   80.62  az  t   n  f  d  x  l  e  ...     0     0     0     0     0   \n",
       "4  13   78.02  az  v   n  f  d  h  d  n  ...     0     0     0     0     0   \n",
       "\n",
       "   X380  X382  X383  X384  X385  \n",
       "0     0     0     0     0     0  \n",
       "1     0     0     0     0     0  \n",
       "2     0     1     0     0     0  \n",
       "3     0     0     0     0     0  \n",
       "4     0     0     0     0     0  \n",
       "\n",
       "[5 rows x 378 columns]"
      ]
     },
     "execution_count": 201,
     "metadata": {},
     "output_type": "execute_result"
    }
   ],
   "source": [
    "train.head()#Displaying Top 5 rows of Train Data"
   ]
  },
  {
   "cell_type": "code",
   "execution_count": 202,
   "metadata": {},
   "outputs": [
    {
     "data": {
      "text/plain": [
       "(4209, 378)"
      ]
     },
     "execution_count": 202,
     "metadata": {},
     "output_type": "execute_result"
    }
   ],
   "source": [
    "train.shape#Checking the Shape of Data"
   ]
  },
  {
   "cell_type": "code",
   "execution_count": 203,
   "metadata": {},
   "outputs": [],
   "source": [
    "column = train.select_dtypes(include = np.number).columns#Taking Column Names of Only Numeric Data to find the \n",
    "                                                        #Varaiance of Columns."
   ]
  },
  {
   "cell_type": "code",
   "execution_count": 204,
   "metadata": {},
   "outputs": [
    {
     "name": "stdout",
     "output_type": "stream",
     "text": [
      "Variance for Column ID is 5941936.11799706\n",
      "Variance for Column y is 160.7667096822783\n",
      "Variance for Column X10 is 0.013130924408766528\n",
      "Variance for Column X11 is 0.0\n",
      "Dropping Column  X11\n",
      "Variance for Column X12 is 0.06945712925498301\n",
      "Variance for Column X13 is 0.05462335372237543\n",
      "Variance for Column X14 is 0.24489291460358809\n",
      "Variance for Column X15 is 0.00047505932877853316\n",
      "Variance for Column X16 is 0.002607236710760207\n",
      "Variance for Column X17 is 0.007546747102668129\n",
      "Variance for Column X18 is 0.007780719750453295\n",
      "Variance for Column X19 is 0.08965996727995626\n",
      "Variance for Column X20 is 0.12242957558806764\n",
      "Variance for Column X21 is 0.0026072367107602044\n",
      "Variance for Column X22 is 0.07941395271946104\n",
      "Variance for Column X23 is 0.020247554805158056\n",
      "Variance for Column X24 is 0.0018975272072246899\n",
      "Variance for Column X26 is 0.004965595180344527\n",
      "Variance for Column X27 is 0.2167142290601392\n",
      "Variance for Column X28 is 0.03149732557519825\n",
      "Variance for Column X29 is 0.041163602889695186\n",
      "Variance for Column X30 is 0.004494826855723828\n",
      "Variance for Column X31 is 0.17841080628419273\n",
      "Variance for Column X32 is 0.011044480097418945\n",
      "Variance for Column X33 is 0.00023758612497031255\n",
      "Variance for Column X34 is 0.005435911820316517\n",
      "Variance for Column X35 is 0.17841080628419273\n",
      "Variance for Column X36 is 0.004494826855723799\n",
      "Variance for Column X37 is 0.17841080628419273\n",
      "Variance for Column X38 is 0.03216333458901635\n",
      "Variance for Column X39 is 0.00023758612497031255\n",
      "Variance for Column X40 is 0.0007124196114247203\n",
      "Variance for Column X41 is 0.011276758927772362\n",
      "Variance for Column X42 is 0.0002375861249703492\n",
      "Variance for Column X43 is 0.06702548495121645\n",
      "Variance for Column X44 is 0.011276758927771158\n",
      "Variance for Column X45 is 0.18916767618184582\n",
      "Variance for Column X46 is 0.24059152169850237\n",
      "Variance for Column X47 is 0.012668060565489766\n",
      "Variance for Column X48 is 0.021839517347851046\n",
      "Variance for Column X49 is 0.10723162930782192\n",
      "Variance for Column X50 is 0.16828121344178515\n",
      "Variance for Column X51 is 0.20085840408973707\n",
      "Variance for Column X52 is 0.040511483178813076\n",
      "Variance for Column X53 is 0.00684415163234305\n",
      "Variance for Column X54 is 0.04159778475781233\n",
      "Variance for Column X55 is 0.005200809960911499\n",
      "Variance for Column X56 is 0.02070296585173856\n",
      "Variance for Column X57 is 0.013130924408766832\n",
      "Variance for Column X58 is 0.24443931029559898\n",
      "Variance for Column X59 is 0.0007124196114247615\n",
      "Variance for Column X60 is 0.001423822932390943\n",
      "Variance for Column X61 is 0.04397771116934944\n",
      "Variance for Column X62 is 0.0059057767756398125\n",
      "Variance for Column X63 is 0.011276758927772752\n",
      "Variance for Column X64 is 0.2344678070800468\n",
      "Variance for Column X65 is 0.0021342099628986243\n",
      "Variance for Column X66 is 0.026357493041799893\n",
      "Variance for Column X67 is 0.0018975272072247593\n",
      "Variance for Column X68 is 0.06804064619812322\n",
      "Variance for Column X69 is 0.02904659759505236\n",
      "Variance for Column X70 is 0.07367337960391171\n",
      "Variance for Column X71 is 0.09287923668907389\n",
      "Variance for Column X73 is 0.019563591326569287\n",
      "Variance for Column X74 is 0.0007124196114247539\n",
      "Variance for Column X75 is 0.034817207739704495\n",
      "Variance for Column X76 is 0.04159778475781233\n",
      "Variance for Column X77 is 0.012436459262109078\n",
      "Variance for Column X78 is 0.005670900758559301\n",
      "Variance for Column X79 is 0.02455572297999843\n",
      "Variance for Column X80 is 0.0501865683439522\n",
      "Variance for Column X81 is 0.1766188603634941\n",
      "Variance for Column X82 is 0.016817574507642586\n",
      "Variance for Column X83 is 0.001186801413230909\n",
      "Variance for Column X84 is 0.09287923668907389\n",
      "Variance for Column X85 is 0.2416252020159475\n",
      "Variance for Column X86 is 0.0014238229323908437\n",
      "Variance for Column X87 is 0.0009496669729088109\n",
      "Variance for Column X88 is 0.0070784630436140404\n",
      "Variance for Column X89 is 0.0007124196114247388\n",
      "Variance for Column X90 is 0.007312661533721994\n",
      "Variance for Column X91 is 0.001660731530388858\n",
      "Variance for Column X92 is 0.0009496669729088355\n",
      "Variance for Column X93 is 0.0\n",
      "Dropping Column  X93\n",
      "Variance for Column X94 is 0.007312661533721994\n",
      "Variance for Column X95 is 0.0002375861249703319\n",
      "Variance for Column X96 is 0.18340869691687994\n",
      "Variance for Column X97 is 0.0042592733116701845\n",
      "Variance for Column X98 is 0.054202948236032035\n",
      "Variance for Column X99 is 0.008481960166834506\n",
      "Variance for Column X100 is 0.21387945620780982\n",
      "Variance for Column X101 is 0.0602546191530571\n",
      "Variance for Column X102 is 0.00684415163234305\n",
      "Variance for Column X103 is 0.16909458457207344\n",
      "Variance for Column X104 is 0.0018975272072246706\n",
      "Variance for Column X105 is 0.0023707797974104666\n",
      "Variance for Column X106 is 0.012899548947708459\n",
      "Variance for Column X107 is 0.0\n",
      "Dropping Column  X107\n",
      "Variance for Column X108 is 0.01451680583070577\n",
      "Variance for Column X109 is 0.038767528751988564\n",
      "Variance for Column X110 is 0.0009496669729088099\n",
      "Variance for Column X111 is 0.024555722979999403\n",
      "Variance for Column X112 is 0.0028435807029479057\n",
      "Variance for Column X113 is 0.021839517347851046\n",
      "Variance for Column X114 is 0.1247953868543599\n",
      "Variance for Column X115 is 0.20407191451958195\n",
      "Variance for Column X116 is 0.15805958985226062\n",
      "Variance for Column X117 is 0.046772735772614746\n",
      "Variance for Column X118 is 0.23511371612703627\n",
      "Variance for Column X119 is 0.23511371612703627\n",
      "Variance for Column X120 is 0.040511483178813076\n",
      "Variance for Column X122 is 0.0070784630436140404\n",
      "Variance for Column X123 is 0.0026072367107601957\n",
      "Variance for Column X124 is 0.00047505932877853744\n",
      "Variance for Column X125 is 0.0030798117739735263\n",
      "Variance for Column X126 is 0.037454820243060086\n",
      "Variance for Column X127 is 0.25003568308722546\n",
      "Variance for Column X128 is 0.03985834717746872\n",
      "Variance for Column X129 is 0.1075906056820091\n",
      "Variance for Column X130 is 0.03985834717746872\n",
      "Variance for Column X131 is 0.025907728053322632\n",
      "Variance for Column X132 is 0.21450944337095101\n",
      "Variance for Column X133 is 0.10884346597505035\n",
      "Variance for Column X134 is 0.021839517347851046\n",
      "Variance for Column X135 is 0.02635749304179969\n",
      "Variance for Column X136 is 0.04159778475781233\n",
      "Variance for Column X137 is 0.24335865477473972\n",
      "Variance for Column X138 is 0.03920419488566372\n",
      "Variance for Column X139 is 0.08234595069229786\n",
      "Variance for Column X140 is 0.03876752875198912\n",
      "Variance for Column X141 is 0.014055297041376171\n",
      "Variance for Column X142 is 0.17700471197426032\n",
      "Variance for Column X143 is 0.03679694155290714\n",
      "Variance for Column X144 is 0.15515412835251477\n",
      "Variance for Column X145 is 0.001423822932390856\n",
      "Variance for Column X146 is 0.03920419488566372\n",
      "Variance for Column X147 is 0.021839517347851046\n",
      "Variance for Column X148 is 0.042897620254259194\n",
      "Variance for Column X150 is 0.16457073697770627\n",
      "Variance for Column X151 is 0.07823403949710861\n",
      "Variance for Column X152 is 0.031275096728268274\n",
      "Variance for Column X153 is 0.0007124196114247559\n",
      "Variance for Column X154 is 0.16526407291274559\n",
      "Variance for Column X155 is 0.07066685366411146\n",
      "Variance for Column X156 is 0.20284084801080723\n",
      "Variance for Column X157 is 0.20284084801081867\n",
      "Variance for Column X158 is 0.17700471197426032\n",
      "Variance for Column X159 is 0.01336218694866145\n",
      "Variance for Column X160 is 0.0011868014132307963\n",
      "Variance for Column X161 is 0.15863526193643762\n",
      "Variance for Column X162 is 0.03920419488566356\n",
      "Variance for Column X163 is 0.21139767490812073\n",
      "Variance for Column X164 is 0.058594678070797455\n",
      "Variance for Column X165 is 0.004494826855724187\n",
      "Variance for Column X166 is 0.0321633345890145\n",
      "Variance for Column X167 is 0.0009496669729088226\n",
      "Variance for Column X168 is 0.19753637642315872\n",
      "Variance for Column X169 is 0.0066097272999099095\n",
      "Variance for Column X170 is 0.023652127841207436\n",
      "Variance for Column X171 is 0.22527850875409802\n",
      "Variance for Column X172 is 0.0059057767756398125\n",
      "Variance for Column X173 is 0.009648435770893962\n",
      "Variance for Column X174 is 0.017047030308943476\n",
      "Variance for Column X175 is 0.021839517347850758\n",
      "Variance for Column X176 is 0.016817574507643127\n",
      "Variance for Column X177 is 0.04762890402333613\n",
      "Variance for Column X178 is 0.24676650252446683\n",
      "Variance for Column X179 is 0.04569998473306089\n",
      "Variance for Column X180 is 0.1330640389460606\n",
      "Variance for Column X181 is 0.0850595591377074\n",
      "Variance for Column X182 is 0.09494490350661612\n",
      "Variance for Column X183 is 0.0040236068464555505\n",
      "Variance for Column X184 is 0.001423822932390704\n",
      "Variance for Column X185 is 0.01842139377235279\n",
      "Variance for Column X186 is 0.2487635132754583\n",
      "Variance for Column X187 is 0.24374202211990284\n",
      "Variance for Column X189 is 0.0774451722589762\n",
      "Variance for Column X190 is 0.00023758612497032264\n",
      "Variance for Column X191 is 0.24921214905230835\n",
      "Variance for Column X192 is 0.002370779797410468\n",
      "Variance for Column X194 is 0.2487635132754583\n",
      "Variance for Column X195 is 0.0115089248369648\n",
      "Variance for Column X196 is 0.010114235564384108\n",
      "Variance for Column X197 is 0.03127509672826812\n",
      "Variance for Column X198 is 0.022520093191577974\n",
      "Variance for Column X199 is 0.0028435807029479057\n",
      "Variance for Column X200 is 0.0066097272999101585\n",
      "Variance for Column X201 is 0.14616673306430478\n",
      "Variance for Column X202 is 0.18316309338942313\n",
      "Variance for Column X203 is 0.01658800578517597\n",
      "Variance for Column X204 is 0.00023758612497035297\n",
      "Variance for Column X205 is 0.00023758612497035297\n",
      "Variance for Column X206 is 0.018878611557525984\n",
      "Variance for Column X207 is 0.00023758612497030588\n",
      "Variance for Column X208 is 0.05901034086833501\n",
      "Variance for Column X209 is 0.09117898275196464\n",
      "Variance for Column X210 is 0.0002375861249703391\n",
      "Variance for Column X211 is 0.014747390843630269\n",
      "Variance for Column X212 is 0.00543591182031654\n",
      "Variance for Column X213 is 0.0018975272072247593\n",
      "Variance for Column X214 is 0.00684415163234305\n",
      "Variance for Column X215 is 0.08889774943607846\n",
      "Variance for Column X216 is 0.0059057767756398125\n",
      "Variance for Column X217 is 0.007312661533721994\n",
      "Variance for Column X218 is 0.21486695177001072\n",
      "Variance for Column X219 is 0.06293660967310137\n",
      "Variance for Column X220 is 0.24631572124552617\n",
      "Variance for Column X221 is 0.008014579477075397\n",
      "Variance for Column X222 is 0.021839517347851046\n",
      "Variance for Column X223 is 0.2470073633631228\n",
      "Variance for Column X224 is 0.2167142290601392\n",
      "Variance for Column X225 is 0.08755952074452615\n",
      "Variance for Column X226 is 0.031275096728268274\n",
      "Variance for Column X227 is 0.0030798117739735263\n",
      "Variance for Column X228 is 0.0374548202430584\n",
      "Variance for Column X229 is 0.03833041093366145\n",
      "Variance for Column X230 is 0.005200809960911481\n",
      "Variance for Column X231 is 0.015898622090810815\n",
      "Variance for Column X232 is 0.041163602889695186\n",
      "Variance for Column X233 is 0.0\n",
      "Dropping Column  X233\n",
      "Variance for Column X234 is 0.16106171186675824\n",
      "Variance for Column X235 is 0.0\n",
      "Dropping Column  X235\n",
      "Variance for Column X236 is 0.00047505932877852904\n",
      "Variance for Column X237 is 0.006609727299909908\n",
      "Variance for Column X238 is 0.07685233615816872\n",
      "Variance for Column X239 is 0.00684415163234305\n",
      "Variance for Column X240 is 0.0028435807029480492\n",
      "Variance for Column X241 is 0.08775103503537314\n",
      "Variance for Column X242 is 0.007312661533721994\n",
      "Variance for Column X243 is 0.0070784630436140404\n",
      "Variance for Column X244 is 0.09287923668907389\n",
      "Variance for Column X245 is 0.0007124196114247388\n",
      "Variance for Column X246 is 0.2418420106471277\n",
      "Variance for Column X247 is 0.18316309338942313\n",
      "Variance for Column X248 is 0.001423822932390943\n",
      "Variance for Column X249 is 0.007546747102668202\n",
      "Variance for Column X250 is 0.24726425900684088\n",
      "Variance for Column X251 is 0.2388536650144241\n",
      "Variance for Column X252 is 0.0007124196114248586\n",
      "Variance for Column X253 is 0.001423822932390943\n",
      "Variance for Column X254 is 0.005200809960911481\n",
      "Variance for Column X255 is 0.01910705106836815\n",
      "Variance for Column X256 is 0.06783783979106309\n",
      "Variance for Column X257 is 0.00023758612497030288\n",
      "Variance for Column X258 is 0.0023707797974106223\n",
      "Variance for Column X259 is 0.00023758612497034782\n",
      "Variance for Column X260 is 0.00023758612497033776\n",
      "Variance for Column X261 is 0.24359003023575196\n",
      "Variance for Column X262 is 0.001423822932390704\n",
      "Variance for Column X263 is 0.041163602889695186\n",
      "Variance for Column X264 is 0.037892841430681654\n",
      "Variance for Column X265 is 0.08563816717209859\n",
      "Variance for Column X266 is 0.001423822932390704\n"
     ]
    },
    {
     "name": "stdout",
     "output_type": "stream",
     "text": [
      "Variance for Column X267 is 0.008948889171944413\n",
      "Variance for Column X268 is 0.0\n",
      "Dropping Column  X268\n",
      "Variance for Column X269 is 0.0004750593287785333\n",
      "Variance for Column X270 is 0.00023758612497032708\n",
      "Variance for Column X271 is 0.002134209962898546\n",
      "Variance for Column X272 is 0.03613804657230089\n",
      "Variance for Column X273 is 0.20159352085474672\n",
      "Variance for Column X274 is 0.00988139212822089\n",
      "Variance for Column X275 is 0.19861985497310283\n",
      "Variance for Column X276 is 0.037016347370788884\n",
      "Variance for Column X277 is 0.0014238229323909049\n",
      "Variance for Column X278 is 0.00047505932877853874\n",
      "Variance for Column X279 is 0.041163602889695186\n",
      "Variance for Column X280 is 0.00023758612497031047\n",
      "Variance for Column X281 is 0.0026072367107601445\n",
      "Variance for Column X282 is 0.004023606846455216\n",
      "Variance for Column X283 is 0.12089700957662208\n",
      "Variance for Column X284 is 0.03942235857076219\n",
      "Variance for Column X285 is 0.16345552758122642\n",
      "Variance for Column X286 is 0.05167102994037388\n",
      "Variance for Column X287 is 0.01566860168369968\n",
      "Variance for Column X288 is 0.00023758612497031087\n",
      "Variance for Column X289 is 0.0\n",
      "Dropping Column  X289\n",
      "Variance for Column X290 is 0.0\n",
      "Dropping Column  X290\n",
      "Variance for Column X291 is 0.010346966079387166\n",
      "Variance for Column X292 is 0.00894888917194441\n",
      "Variance for Column X293 is 0.0\n",
      "Dropping Column  X293\n",
      "Variance for Column X294 is 0.10937871228321164\n",
      "Variance for Column X295 is 0.00023758612497033058\n",
      "Variance for Column X296 is 0.00023758612497033058\n",
      "Variance for Column X297 is 0.0\n",
      "Dropping Column  X297\n",
      "Variance for Column X298 is 0.004494826855724245\n",
      "Variance for Column X299 is 0.004494826855724245\n",
      "Variance for Column X300 is 0.1641533803627321\n",
      "Variance for Column X301 is 0.044624410664456556\n",
      "Variance for Column X302 is 0.011276758927771158\n",
      "Variance for Column X304 is 0.07006249960477293\n",
      "Variance for Column X305 is 0.013130924408766441\n",
      "Variance for Column X306 is 0.04181470631012424\n",
      "Variance for Column X307 is 0.00213420996289869\n",
      "Variance for Column X308 is 0.009415366492406875\n",
      "Variance for Column X309 is 0.007078463043614069\n",
      "Variance for Column X310 is 0.002607236710760194\n",
      "Variance for Column X311 is 0.24035890410464217\n",
      "Variance for Column X312 is 0.004259273311669951\n",
      "Variance for Column X313 is 0.2104576062339732\n",
      "Variance for Column X314 is 0.24539259074572356\n",
      "Variance for Column X315 is 0.027928113484863275\n",
      "Variance for Column X316 is 0.15733745902090793\n",
      "Variance for Column X317 is 0.007546747102668129\n",
      "Variance for Column X318 is 0.0007124196114247518\n",
      "Variance for Column X319 is 0.00047505932877853744\n",
      "Variance for Column X320 is 0.0070784630436140404\n",
      "Variance for Column X321 is 0.18180420012520151\n",
      "Variance for Column X322 is 0.021385235512891395\n",
      "Variance for Column X323 is 0.009182184292757564\n",
      "Variance for Column X324 is 0.24443931029559898\n",
      "Variance for Column X325 is 0.005670900758559663\n",
      "Variance for Column X326 is 0.031275096728268274\n",
      "Variance for Column X327 is 0.11186309076964653\n",
      "Variance for Column X328 is 0.03854902630340189\n",
      "Variance for Column X329 is 0.24586685962634014\n",
      "Variance for Column X330 is 0.0\n",
      "Dropping Column  X330\n",
      "Variance for Column X331 is 0.052939021669117556\n",
      "Variance for Column X332 is 0.0007124196114247347\n",
      "Variance for Column X333 is 0.02342594675360856\n",
      "Variance for Column X334 is 0.24865883535824476\n",
      "Variance for Column X335 is 0.003551935152537723\n",
      "Variance for Column X336 is 0.11115552676818627\n",
      "Variance for Column X337 is 0.24978669192486688\n",
      "Variance for Column X338 is 0.006844151632343393\n",
      "Variance for Column X339 is 0.00023758612497034882\n",
      "Variance for Column X340 is 0.02183951734785107\n",
      "Variance for Column X341 is 0.008014579477075495\n",
      "Variance for Column X342 is 0.02183951734785095\n",
      "Variance for Column X343 is 0.07227349595787262\n",
      "Variance for Column X344 is 0.008481960166834368\n",
      "Variance for Column X345 is 0.021839517347851035\n",
      "Variance for Column X346 is 0.045270093869104966\n",
      "Variance for Column X347 is 0.0\n",
      "Dropping Column  X347\n",
      "Variance for Column X348 is 0.04997405071695584\n",
      "Variance for Column X349 is 0.042897620254259826\n",
      "Variance for Column X350 is 0.2240670905275312\n",
      "Variance for Column X351 is 0.20893000875364093\n",
      "Variance for Column X352 is 0.051247462661487705\n",
      "Variance for Column X353 is 0.0021342099628985545\n",
      "Variance for Column X354 is 0.1617691629470378\n",
      "Variance for Column X355 is 0.23574596171342022\n",
      "Variance for Column X356 is 0.14754075776422193\n",
      "Variance for Column X357 is 0.0011868014132308334\n",
      "Variance for Column X358 is 0.2447207098314542\n",
      "Variance for Column X359 is 0.03083030027092039\n",
      "Variance for Column X360 is 0.07066685366411146\n",
      "Variance for Column X361 is 0.03282832731237781\n",
      "Variance for Column X362 is 0.2496466696839445\n",
      "Variance for Column X363 is 0.1855988028550209\n",
      "Variance for Column X364 is 0.0028435807029480492\n",
      "Variance for Column X365 is 0.0028435807029480492\n",
      "Variance for Column X366 is 0.001186801413230875\n",
      "Variance for Column X367 is 0.04912285099736126\n",
      "Variance for Column X368 is 0.05880256593014707\n",
      "Variance for Column X369 is 0.0004750593287785319\n",
      "Variance for Column X370 is 0.006609727299910466\n",
      "Variance for Column X371 is 0.014055297041376017\n",
      "Variance for Column X372 is 0.0004750593287785281\n",
      "Variance for Column X373 is 0.01887861155752589\n",
      "Variance for Column X374 is 0.17571458769775042\n",
      "Variance for Column X375 is 0.21723287595746013\n",
      "Variance for Column X376 is 0.05399257611112758\n",
      "Variance for Column X377 is 0.21575281828635612\n",
      "Variance for Column X378 is 0.020247554805157712\n",
      "Variance for Column X379 is 0.009415366492406547\n",
      "Variance for Column X380 is 0.008014579477075342\n",
      "Variance for Column X382 is 0.007546747102668129\n",
      "Variance for Column X383 is 0.0016607315303888506\n",
      "Variance for Column X384 is 0.0004750593287785286\n",
      "Variance for Column X385 is 0.001423822932390943\n"
     ]
    }
   ],
   "source": [
    "#Looping Through the Numeric Variables And Printing the Variances of Columns and dropping the columns with 0 Variance\n",
    "dropped_col = []\n",
    "for col in list(column):\n",
    "    var = train[col].var()\n",
    "    print(\"Variance for Column {} is {}\".format(col, train[col].var()))\n",
    "    if var == 0:\n",
    "        print(\"Dropping Column \",col)\n",
    "        dropped_col.append(col)\n",
    "        #train.drop(col, axis=1, inplace = True)"
   ]
  },
  {
   "cell_type": "code",
   "execution_count": 205,
   "metadata": {},
   "outputs": [
    {
     "data": {
      "text/plain": [
       "['X11',\n",
       " 'X93',\n",
       " 'X107',\n",
       " 'X233',\n",
       " 'X235',\n",
       " 'X268',\n",
       " 'X289',\n",
       " 'X290',\n",
       " 'X293',\n",
       " 'X297',\n",
       " 'X330',\n",
       " 'X347']"
      ]
     },
     "execution_count": 205,
     "metadata": {},
     "output_type": "execute_result"
    }
   ],
   "source": [
    "dropped_col #Columns with Variance 0.0"
   ]
  },
  {
   "cell_type": "code",
   "execution_count": 206,
   "metadata": {},
   "outputs": [],
   "source": [
    "test = pd.read_csv('test.csv') #Reading Test Data"
   ]
  },
  {
   "cell_type": "code",
   "execution_count": 207,
   "metadata": {},
   "outputs": [
    {
     "data": {
      "text/plain": [
       "(4209, 377)"
      ]
     },
     "execution_count": 207,
     "metadata": {},
     "output_type": "execute_result"
    }
   ],
   "source": [
    "test.shape #y is the target column hence not present in test Data"
   ]
  },
  {
   "cell_type": "code",
   "execution_count": 208,
   "metadata": {},
   "outputs": [
    {
     "data": {
      "text/html": [
       "<div>\n",
       "<style scoped>\n",
       "    .dataframe tbody tr th:only-of-type {\n",
       "        vertical-align: middle;\n",
       "    }\n",
       "\n",
       "    .dataframe tbody tr th {\n",
       "        vertical-align: top;\n",
       "    }\n",
       "\n",
       "    .dataframe thead th {\n",
       "        text-align: right;\n",
       "    }\n",
       "</style>\n",
       "<table border=\"1\" class=\"dataframe\">\n",
       "  <thead>\n",
       "    <tr style=\"text-align: right;\">\n",
       "      <th></th>\n",
       "      <th>ID</th>\n",
       "      <th>X0</th>\n",
       "      <th>X1</th>\n",
       "      <th>X2</th>\n",
       "      <th>X3</th>\n",
       "      <th>X4</th>\n",
       "      <th>X5</th>\n",
       "      <th>X6</th>\n",
       "      <th>X8</th>\n",
       "      <th>X10</th>\n",
       "      <th>...</th>\n",
       "      <th>X375</th>\n",
       "      <th>X376</th>\n",
       "      <th>X377</th>\n",
       "      <th>X378</th>\n",
       "      <th>X379</th>\n",
       "      <th>X380</th>\n",
       "      <th>X382</th>\n",
       "      <th>X383</th>\n",
       "      <th>X384</th>\n",
       "      <th>X385</th>\n",
       "    </tr>\n",
       "  </thead>\n",
       "  <tbody>\n",
       "    <tr>\n",
       "      <th>0</th>\n",
       "      <td>1</td>\n",
       "      <td>az</td>\n",
       "      <td>v</td>\n",
       "      <td>n</td>\n",
       "      <td>f</td>\n",
       "      <td>d</td>\n",
       "      <td>t</td>\n",
       "      <td>a</td>\n",
       "      <td>w</td>\n",
       "      <td>0</td>\n",
       "      <td>...</td>\n",
       "      <td>0</td>\n",
       "      <td>0</td>\n",
       "      <td>0</td>\n",
       "      <td>1</td>\n",
       "      <td>0</td>\n",
       "      <td>0</td>\n",
       "      <td>0</td>\n",
       "      <td>0</td>\n",
       "      <td>0</td>\n",
       "      <td>0</td>\n",
       "    </tr>\n",
       "    <tr>\n",
       "      <th>1</th>\n",
       "      <td>2</td>\n",
       "      <td>t</td>\n",
       "      <td>b</td>\n",
       "      <td>ai</td>\n",
       "      <td>a</td>\n",
       "      <td>d</td>\n",
       "      <td>b</td>\n",
       "      <td>g</td>\n",
       "      <td>y</td>\n",
       "      <td>0</td>\n",
       "      <td>...</td>\n",
       "      <td>0</td>\n",
       "      <td>0</td>\n",
       "      <td>1</td>\n",
       "      <td>0</td>\n",
       "      <td>0</td>\n",
       "      <td>0</td>\n",
       "      <td>0</td>\n",
       "      <td>0</td>\n",
       "      <td>0</td>\n",
       "      <td>0</td>\n",
       "    </tr>\n",
       "    <tr>\n",
       "      <th>2</th>\n",
       "      <td>3</td>\n",
       "      <td>az</td>\n",
       "      <td>v</td>\n",
       "      <td>as</td>\n",
       "      <td>f</td>\n",
       "      <td>d</td>\n",
       "      <td>a</td>\n",
       "      <td>j</td>\n",
       "      <td>j</td>\n",
       "      <td>0</td>\n",
       "      <td>...</td>\n",
       "      <td>0</td>\n",
       "      <td>0</td>\n",
       "      <td>0</td>\n",
       "      <td>1</td>\n",
       "      <td>0</td>\n",
       "      <td>0</td>\n",
       "      <td>0</td>\n",
       "      <td>0</td>\n",
       "      <td>0</td>\n",
       "      <td>0</td>\n",
       "    </tr>\n",
       "    <tr>\n",
       "      <th>3</th>\n",
       "      <td>4</td>\n",
       "      <td>az</td>\n",
       "      <td>l</td>\n",
       "      <td>n</td>\n",
       "      <td>f</td>\n",
       "      <td>d</td>\n",
       "      <td>z</td>\n",
       "      <td>l</td>\n",
       "      <td>n</td>\n",
       "      <td>0</td>\n",
       "      <td>...</td>\n",
       "      <td>0</td>\n",
       "      <td>0</td>\n",
       "      <td>0</td>\n",
       "      <td>1</td>\n",
       "      <td>0</td>\n",
       "      <td>0</td>\n",
       "      <td>0</td>\n",
       "      <td>0</td>\n",
       "      <td>0</td>\n",
       "      <td>0</td>\n",
       "    </tr>\n",
       "    <tr>\n",
       "      <th>4</th>\n",
       "      <td>5</td>\n",
       "      <td>w</td>\n",
       "      <td>s</td>\n",
       "      <td>as</td>\n",
       "      <td>c</td>\n",
       "      <td>d</td>\n",
       "      <td>y</td>\n",
       "      <td>i</td>\n",
       "      <td>m</td>\n",
       "      <td>0</td>\n",
       "      <td>...</td>\n",
       "      <td>1</td>\n",
       "      <td>0</td>\n",
       "      <td>0</td>\n",
       "      <td>0</td>\n",
       "      <td>0</td>\n",
       "      <td>0</td>\n",
       "      <td>0</td>\n",
       "      <td>0</td>\n",
       "      <td>0</td>\n",
       "      <td>0</td>\n",
       "    </tr>\n",
       "  </tbody>\n",
       "</table>\n",
       "<p>5 rows × 377 columns</p>\n",
       "</div>"
      ],
      "text/plain": [
       "   ID  X0 X1  X2 X3 X4 X5 X6 X8  X10  ...  X375  X376  X377  X378  X379  X380  \\\n",
       "0   1  az  v   n  f  d  t  a  w    0  ...     0     0     0     1     0     0   \n",
       "1   2   t  b  ai  a  d  b  g  y    0  ...     0     0     1     0     0     0   \n",
       "2   3  az  v  as  f  d  a  j  j    0  ...     0     0     0     1     0     0   \n",
       "3   4  az  l   n  f  d  z  l  n    0  ...     0     0     0     1     0     0   \n",
       "4   5   w  s  as  c  d  y  i  m    0  ...     1     0     0     0     0     0   \n",
       "\n",
       "   X382  X383  X384  X385  \n",
       "0     0     0     0     0  \n",
       "1     0     0     0     0  \n",
       "2     0     0     0     0  \n",
       "3     0     0     0     0  \n",
       "4     0     0     0     0  \n",
       "\n",
       "[5 rows x 377 columns]"
      ]
     },
     "execution_count": 208,
     "metadata": {},
     "output_type": "execute_result"
    }
   ],
   "source": [
    "test.head() #Displaying top 5 rows of Test Data"
   ]
  },
  {
   "cell_type": "code",
   "execution_count": 209,
   "metadata": {},
   "outputs": [
    {
     "data": {
      "text/plain": [
       "X290       1\n",
       "X235       1\n",
       "X11        1\n",
       "X297       1\n",
       "X107       1\n",
       "        ... \n",
       "X5        29\n",
       "X2        44\n",
       "X0        47\n",
       "y       2545\n",
       "ID      4209\n",
       "Length: 378, dtype: int64"
      ]
     },
     "execution_count": 209,
     "metadata": {},
     "output_type": "execute_result"
    }
   ],
   "source": [
    "train.nunique().sort_values()"
   ]
  },
  {
   "cell_type": "code",
   "execution_count": 210,
   "metadata": {},
   "outputs": [
    {
     "data": {
      "text/plain": [
       "X258       1\n",
       "X295       1\n",
       "X296       1\n",
       "X257       1\n",
       "X369       1\n",
       "        ... \n",
       "X1        27\n",
       "X5        32\n",
       "X2        45\n",
       "X0        49\n",
       "ID      4209\n",
       "Length: 377, dtype: int64"
      ]
     },
     "execution_count": 210,
     "metadata": {},
     "output_type": "execute_result"
    }
   ],
   "source": [
    "test.nunique().sort_values()"
   ]
  },
  {
   "cell_type": "code",
   "execution_count": 211,
   "metadata": {},
   "outputs": [
    {
     "name": "stdout",
     "output_type": "stream",
     "text": [
      "Dropping Column  X257\n",
      "Dropping Column  X258\n",
      "Dropping Column  X295\n",
      "Dropping Column  X296\n",
      "Dropping Column  X369\n"
     ]
    }
   ],
   "source": [
    "column = test.select_dtypes(include = np.number).columns#Taking Column Names of Only Numeric Data to find the \n",
    "                                                        #Varaiance of Columns.\n",
    "dropped_col_test = []\n",
    "for col in list(column):\n",
    "    var = test[col].var()\n",
    "    #print(\"Variance for Column {} is {}\".format(col, train[col].var()))\n",
    "    if var == 0:\n",
    "        print(\"Dropping Column \",col)\n",
    "        dropped_col_test.append(col)\n",
    "        #train.drop(col, axis=1, inplace = True)"
   ]
  },
  {
   "cell_type": "code",
   "execution_count": 212,
   "metadata": {},
   "outputs": [
    {
     "data": {
      "text/plain": [
       "['X257', 'X258', 'X295', 'X296', 'X369']"
      ]
     },
     "execution_count": 212,
     "metadata": {},
     "output_type": "execute_result"
    }
   ],
   "source": [
    "dropped_col_test"
   ]
  },
  {
   "cell_type": "code",
   "execution_count": 213,
   "metadata": {},
   "outputs": [
    {
     "data": {
      "text/plain": [
       "['X11',\n",
       " 'X93',\n",
       " 'X107',\n",
       " 'X233',\n",
       " 'X235',\n",
       " 'X268',\n",
       " 'X289',\n",
       " 'X290',\n",
       " 'X293',\n",
       " 'X297',\n",
       " 'X330',\n",
       " 'X347']"
      ]
     },
     "execution_count": 213,
     "metadata": {},
     "output_type": "execute_result"
    }
   ],
   "source": [
    "dropped_col"
   ]
  },
  {
   "cell_type": "code",
   "execution_count": 214,
   "metadata": {},
   "outputs": [],
   "source": [
    "dropped_col = dropped_col+dropped_col_test"
   ]
  },
  {
   "cell_type": "code",
   "execution_count": 215,
   "metadata": {},
   "outputs": [
    {
     "data": {
      "text/plain": [
       "['X11',\n",
       " 'X93',\n",
       " 'X107',\n",
       " 'X233',\n",
       " 'X235',\n",
       " 'X268',\n",
       " 'X289',\n",
       " 'X290',\n",
       " 'X293',\n",
       " 'X297',\n",
       " 'X330',\n",
       " 'X347',\n",
       " 'X257',\n",
       " 'X258',\n",
       " 'X295',\n",
       " 'X296',\n",
       " 'X369']"
      ]
     },
     "execution_count": 215,
     "metadata": {},
     "output_type": "execute_result"
    }
   ],
   "source": [
    "dropped_col#All Columsn from test and Train with 0.0 Variance"
   ]
  },
  {
   "cell_type": "code",
   "execution_count": 216,
   "metadata": {},
   "outputs": [],
   "source": [
    "#Dropping All columns with 0 Variance\n",
    "\n",
    "for col in dropped_col:\n",
    "    train.drop(col, axis = 1, inplace=True)\n",
    "    test.drop(col, axis = 1, inplace = True)"
   ]
  },
  {
   "cell_type": "code",
   "execution_count": 217,
   "metadata": {},
   "outputs": [
    {
     "data": {
      "text/plain": [
       "<matplotlib.axes._subplots.AxesSubplot at 0x219a988aee0>"
      ]
     },
     "execution_count": 217,
     "metadata": {},
     "output_type": "execute_result"
    },
    {
     "data": {
      "image/png": "[encoded data removed]",
      "text/plain": [
       "<Figure size 432x288 with 1 Axes>"
      ]
     },
     "metadata": {
      "needs_background": "light"
     },
     "output_type": "display_data"
    }
   ],
   "source": [
    "#Looking at Target Column\n",
    "sns.distplot(train.y)#Data is positively skewed"
   ]
  },
  {
   "cell_type": "code",
   "execution_count": 218,
   "metadata": {},
   "outputs": [
    {
     "name": "stdout",
     "output_type": "stream",
     "text": [
      "Skeweness of Target Column  1.206525852242492\n"
     ]
    }
   ],
   "source": [
    "print(\"Skeweness of Target Column \", train.y.skew())#Value is positive "
   ]
  },
  {
   "cell_type": "code",
   "execution_count": 219,
   "metadata": {},
   "outputs": [
    {
     "name": "stdout",
     "output_type": "stream",
     "text": [
      "Kurtosis of Target Column  7.910712683715831\n"
     ]
    }
   ],
   "source": [
    "print(\"Kurtosis of Target Column \", train.y.kurt())#Positive Kurtosis"
   ]
  },
  {
   "cell_type": "code",
   "execution_count": 220,
   "metadata": {},
   "outputs": [
    {
     "data": {
      "text/plain": [
       "<matplotlib.axes._subplots.AxesSubplot at 0x219a988d850>"
      ]
     },
     "execution_count": 220,
     "metadata": {},
     "output_type": "execute_result"
    },
    {
     "data": {
      "image/png": "[encoded data removed]",
      "text/plain": [
       "<Figure size 432x288 with 1 Axes>"
      ]
     },
     "metadata": {
      "needs_background": "light"
     },
     "output_type": "display_data"
    }
   ],
   "source": [
    "train.y.hist()#Histogram"
   ]
  },
  {
   "cell_type": "code",
   "execution_count": 221,
   "metadata": {},
   "outputs": [
    {
     "data": {
      "text/plain": [
       "<matplotlib.axes._subplots.AxesSubplot at 0x219a97c9c40>"
      ]
     },
     "execution_count": 221,
     "metadata": {},
     "output_type": "execute_result"
    },
    {
     "data": {
      "image/png": "[encoded data removed]",
      "text/plain": [
       "<Figure size 432x288 with 1 Axes>"
      ]
     },
     "metadata": {
      "needs_background": "light"
     },
     "output_type": "display_data"
    }
   ],
   "source": [
    "train.y.plot(kind = 'density')#Density Plot"
   ]
  },
  {
   "cell_type": "code",
   "execution_count": 222,
   "metadata": {},
   "outputs": [
    {
     "data": {
      "text/plain": [
       "<matplotlib.axes._subplots.AxesSubplot at 0x219aa943910>"
      ]
     },
     "execution_count": 222,
     "metadata": {},
     "output_type": "execute_result"
    },
    {
     "data": {
      "image/png": "[encoded data removed]",
      "text/plain": [
       "<Figure size 432x288 with 1 Axes>"
      ]
     },
     "metadata": {
      "needs_background": "light"
     },
     "output_type": "display_data"
    }
   ],
   "source": [
    "train.y.plot(kind = 'box', vert = False)#Box Plot for target Variable"
   ]
  },
  {
   "cell_type": "code",
   "execution_count": 223,
   "metadata": {},
   "outputs": [],
   "source": [
    "#Transforming the Target column\n",
    "y = train.y\n",
    "y = np.log(y)"
   ]
  },
  {
   "cell_type": "code",
   "execution_count": 224,
   "metadata": {},
   "outputs": [
    {
     "name": "stdout",
     "output_type": "stream",
     "text": [
      "Skewness of Transformed Target Column  0.38998017497316945\n",
      "Kurtosis of Transformed Traget Column  1.3095403395973118\n"
     ]
    },
    {
     "data": {
      "image/png": "[encoded data removed]",
      "text/plain": [
       "<Figure size 432x288 with 1 Axes>"
      ]
     },
     "metadata": {
      "needs_background": "light"
     },
     "output_type": "display_data"
    }
   ],
   "source": [
    "#Skewness and Kurtosis for Logarithmic Transformation\n",
    "sns.distplot(y)\n",
    "print(\"Skewness of Transformed Target Column \",y.skew())\n",
    "print(\"Kurtosis of Transformed Traget Column \", y.kurt())"
   ]
  },
  {
   "cell_type": "code",
   "execution_count": 225,
   "metadata": {},
   "outputs": [
    {
     "data": {
      "text/plain": [
       "Text(0.5, 1.0, 'Logaritmic Transformation of y')"
      ]
     },
     "execution_count": 225,
     "metadata": {},
     "output_type": "execute_result"
    },
    {
     "data": {
      "image/png": "[encoded data removed]",
      "text/plain": [
       "<Figure size 432x288 with 1 Axes>"
      ]
     },
     "metadata": {
      "needs_background": "light"
     },
     "output_type": "display_data"
    }
   ],
   "source": [
    "y.plot(kind = 'box', vert = False)\n",
    "plt.title(\"Logaritmic Transformation of y\")#Box Plot"
   ]
  },
  {
   "cell_type": "code",
   "execution_count": 226,
   "metadata": {},
   "outputs": [
    {
     "name": "stdout",
     "output_type": "stream",
     "text": [
      "Skewness of Transformed Target Column  0.7227115955997278\n",
      "Kurtosis of Transformed Traget Column  3.1710964158193087\n"
     ]
    },
    {
     "data": {
      "image/png": "[encoded data removed]",
      "text/plain": [
       "<Figure size 432x288 with 1 Axes>"
      ]
     },
     "metadata": {
      "needs_background": "light"
     },
     "output_type": "display_data"
    }
   ],
   "source": [
    "#Skewness and Kurtosis for Exponential Transformation\n",
    "y = train.y\n",
    "y = np.sqrt(y)\n",
    "sns.distplot(y)\n",
    "print(\"Skewness of Transformed Target Column \",y.skew())\n",
    "print(\"Kurtosis of Transformed Traget Column \", y.kurt())"
   ]
  },
  {
   "cell_type": "code",
   "execution_count": 227,
   "metadata": {
    "scrolled": true
   },
   "outputs": [
    {
     "data": {
      "text/plain": [
       "Text(0.5, 1.0, 'Square Root Transformation of y')"
      ]
     },
     "execution_count": 227,
     "metadata": {},
     "output_type": "execute_result"
    },
    {
     "data": {
      "image/png": "[encoded data removed]",
      "text/plain": [
       "<Figure size 432x288 with 1 Axes>"
      ]
     },
     "metadata": {
      "needs_background": "light"
     },
     "output_type": "display_data"
    }
   ],
   "source": [
    "y.plot(kind = 'box', vert = False)\n",
    "plt.title(\"Square Root Transformation of y\")"
   ]
  },
  {
   "cell_type": "code",
   "execution_count": 228,
   "metadata": {},
   "outputs": [],
   "source": [
    "#Hence we will use Logarithmic Transformation for Target Variable y as it has lower Skewness and Kurtosis as \n",
    "#Compared to that of Square Root Transformation"
   ]
  },
  {
   "cell_type": "code",
   "execution_count": 229,
   "metadata": {},
   "outputs": [
    {
     "data": {
      "text/plain": [
       "count    4209.000000\n",
       "mean      100.669318\n",
       "std        12.679381\n",
       "min        72.110000\n",
       "25%        90.820000\n",
       "50%        99.150000\n",
       "75%       109.010000\n",
       "max       265.320000\n",
       "Name: y, dtype: float64"
      ]
     },
     "execution_count": 229,
     "metadata": {},
     "output_type": "execute_result"
    }
   ],
   "source": [
    "train.y.describe()#Median and Mean are nearly close"
   ]
  },
  {
   "cell_type": "code",
   "execution_count": 230,
   "metadata": {},
   "outputs": [
    {
     "data": {
      "text/plain": [
       "0"
      ]
     },
     "execution_count": 230,
     "metadata": {},
     "output_type": "execute_result"
    }
   ],
   "source": [
    "train.y.isnull().sum()#No Null Values in target column"
   ]
  },
  {
   "cell_type": "code",
   "execution_count": 231,
   "metadata": {},
   "outputs": [],
   "source": [
    "#Seperating Target Column from Rest of the Data\n",
    "traindf = train.drop('y', axis=1)"
   ]
  },
  {
   "cell_type": "code",
   "execution_count": 232,
   "metadata": {},
   "outputs": [
    {
     "data": {
      "text/html": [
       "<div>\n",
       "<style scoped>\n",
       "    .dataframe tbody tr th:only-of-type {\n",
       "        vertical-align: middle;\n",
       "    }\n",
       "\n",
       "    .dataframe tbody tr th {\n",
       "        vertical-align: top;\n",
       "    }\n",
       "\n",
       "    .dataframe thead th {\n",
       "        text-align: right;\n",
       "    }\n",
       "</style>\n",
       "<table border=\"1\" class=\"dataframe\">\n",
       "  <thead>\n",
       "    <tr style=\"text-align: right;\">\n",
       "      <th></th>\n",
       "      <th>ID</th>\n",
       "      <th>X0</th>\n",
       "      <th>X1</th>\n",
       "      <th>X2</th>\n",
       "      <th>X3</th>\n",
       "      <th>X4</th>\n",
       "      <th>X5</th>\n",
       "      <th>X6</th>\n",
       "      <th>X8</th>\n",
       "      <th>X10</th>\n",
       "      <th>...</th>\n",
       "      <th>X375</th>\n",
       "      <th>X376</th>\n",
       "      <th>X377</th>\n",
       "      <th>X378</th>\n",
       "      <th>X379</th>\n",
       "      <th>X380</th>\n",
       "      <th>X382</th>\n",
       "      <th>X383</th>\n",
       "      <th>X384</th>\n",
       "      <th>X385</th>\n",
       "    </tr>\n",
       "  </thead>\n",
       "  <tbody>\n",
       "    <tr>\n",
       "      <th>0</th>\n",
       "      <td>0</td>\n",
       "      <td>k</td>\n",
       "      <td>v</td>\n",
       "      <td>at</td>\n",
       "      <td>a</td>\n",
       "      <td>d</td>\n",
       "      <td>u</td>\n",
       "      <td>j</td>\n",
       "      <td>o</td>\n",
       "      <td>0</td>\n",
       "      <td>...</td>\n",
       "      <td>0</td>\n",
       "      <td>0</td>\n",
       "      <td>1</td>\n",
       "      <td>0</td>\n",
       "      <td>0</td>\n",
       "      <td>0</td>\n",
       "      <td>0</td>\n",
       "      <td>0</td>\n",
       "      <td>0</td>\n",
       "      <td>0</td>\n",
       "    </tr>\n",
       "    <tr>\n",
       "      <th>1</th>\n",
       "      <td>6</td>\n",
       "      <td>k</td>\n",
       "      <td>t</td>\n",
       "      <td>av</td>\n",
       "      <td>e</td>\n",
       "      <td>d</td>\n",
       "      <td>y</td>\n",
       "      <td>l</td>\n",
       "      <td>o</td>\n",
       "      <td>0</td>\n",
       "      <td>...</td>\n",
       "      <td>1</td>\n",
       "      <td>0</td>\n",
       "      <td>0</td>\n",
       "      <td>0</td>\n",
       "      <td>0</td>\n",
       "      <td>0</td>\n",
       "      <td>0</td>\n",
       "      <td>0</td>\n",
       "      <td>0</td>\n",
       "      <td>0</td>\n",
       "    </tr>\n",
       "  </tbody>\n",
       "</table>\n",
       "<p>2 rows × 360 columns</p>\n",
       "</div>"
      ],
      "text/plain": [
       "   ID X0 X1  X2 X3 X4 X5 X6 X8  X10  ...  X375  X376  X377  X378  X379  X380  \\\n",
       "0   0  k  v  at  a  d  u  j  o    0  ...     0     0     1     0     0     0   \n",
       "1   6  k  t  av  e  d  y  l  o    0  ...     1     0     0     0     0     0   \n",
       "\n",
       "   X382  X383  X384  X385  \n",
       "0     0     0     0     0  \n",
       "1     0     0     0     0  \n",
       "\n",
       "[2 rows x 360 columns]"
      ]
     },
     "execution_count": 232,
     "metadata": {},
     "output_type": "execute_result"
    }
   ],
   "source": [
    "traindf.head(2)"
   ]
  },
  {
   "cell_type": "code",
   "execution_count": 233,
   "metadata": {},
   "outputs": [
    {
     "data": {
      "text/html": [
       "<div>\n",
       "<style scoped>\n",
       "    .dataframe tbody tr th:only-of-type {\n",
       "        vertical-align: middle;\n",
       "    }\n",
       "\n",
       "    .dataframe tbody tr th {\n",
       "        vertical-align: top;\n",
       "    }\n",
       "\n",
       "    .dataframe thead th {\n",
       "        text-align: right;\n",
       "    }\n",
       "</style>\n",
       "<table border=\"1\" class=\"dataframe\">\n",
       "  <thead>\n",
       "    <tr style=\"text-align: right;\">\n",
       "      <th></th>\n",
       "      <th>ID</th>\n",
       "      <th>X0</th>\n",
       "      <th>X1</th>\n",
       "      <th>X2</th>\n",
       "      <th>X3</th>\n",
       "      <th>X4</th>\n",
       "      <th>X5</th>\n",
       "      <th>X6</th>\n",
       "      <th>X8</th>\n",
       "      <th>X10</th>\n",
       "      <th>...</th>\n",
       "      <th>X375</th>\n",
       "      <th>X376</th>\n",
       "      <th>X377</th>\n",
       "      <th>X378</th>\n",
       "      <th>X379</th>\n",
       "      <th>X380</th>\n",
       "      <th>X382</th>\n",
       "      <th>X383</th>\n",
       "      <th>X384</th>\n",
       "      <th>X385</th>\n",
       "    </tr>\n",
       "  </thead>\n",
       "  <tbody>\n",
       "    <tr>\n",
       "      <th>0</th>\n",
       "      <td>1</td>\n",
       "      <td>az</td>\n",
       "      <td>v</td>\n",
       "      <td>n</td>\n",
       "      <td>f</td>\n",
       "      <td>d</td>\n",
       "      <td>t</td>\n",
       "      <td>a</td>\n",
       "      <td>w</td>\n",
       "      <td>0</td>\n",
       "      <td>...</td>\n",
       "      <td>0</td>\n",
       "      <td>0</td>\n",
       "      <td>0</td>\n",
       "      <td>1</td>\n",
       "      <td>0</td>\n",
       "      <td>0</td>\n",
       "      <td>0</td>\n",
       "      <td>0</td>\n",
       "      <td>0</td>\n",
       "      <td>0</td>\n",
       "    </tr>\n",
       "    <tr>\n",
       "      <th>1</th>\n",
       "      <td>2</td>\n",
       "      <td>t</td>\n",
       "      <td>b</td>\n",
       "      <td>ai</td>\n",
       "      <td>a</td>\n",
       "      <td>d</td>\n",
       "      <td>b</td>\n",
       "      <td>g</td>\n",
       "      <td>y</td>\n",
       "      <td>0</td>\n",
       "      <td>...</td>\n",
       "      <td>0</td>\n",
       "      <td>0</td>\n",
       "      <td>1</td>\n",
       "      <td>0</td>\n",
       "      <td>0</td>\n",
       "      <td>0</td>\n",
       "      <td>0</td>\n",
       "      <td>0</td>\n",
       "      <td>0</td>\n",
       "      <td>0</td>\n",
       "    </tr>\n",
       "  </tbody>\n",
       "</table>\n",
       "<p>2 rows × 360 columns</p>\n",
       "</div>"
      ],
      "text/plain": [
       "   ID  X0 X1  X2 X3 X4 X5 X6 X8  X10  ...  X375  X376  X377  X378  X379  X380  \\\n",
       "0   1  az  v   n  f  d  t  a  w    0  ...     0     0     0     1     0     0   \n",
       "1   2   t  b  ai  a  d  b  g  y    0  ...     0     0     1     0     0     0   \n",
       "\n",
       "   X382  X383  X384  X385  \n",
       "0     0     0     0     0  \n",
       "1     0     0     0     0  \n",
       "\n",
       "[2 rows x 360 columns]"
      ]
     },
     "execution_count": 233,
     "metadata": {},
     "output_type": "execute_result"
    }
   ],
   "source": [
    "test.head(2)"
   ]
  },
  {
   "cell_type": "code",
   "execution_count": 234,
   "metadata": {},
   "outputs": [
    {
     "data": {
      "text/plain": [
       "X385    0\n",
       "X118    0\n",
       "X120    0\n",
       "X122    0\n",
       "X123    0\n",
       "       ..\n",
       "X253    0\n",
       "X254    0\n",
       "X255    0\n",
       "X256    0\n",
       "ID      0\n",
       "Length: 360, dtype: int64"
      ]
     },
     "execution_count": 234,
     "metadata": {},
     "output_type": "execute_result"
    }
   ],
   "source": [
    "#Checking null values in training data\n",
    "traindf.isnull().sum().sort_values(ascending = False)"
   ]
  },
  {
   "cell_type": "code",
   "execution_count": 235,
   "metadata": {},
   "outputs": [
    {
     "data": {
      "text/plain": [
       "X385    0\n",
       "X118    0\n",
       "X120    0\n",
       "X122    0\n",
       "X123    0\n",
       "       ..\n",
       "X253    0\n",
       "X254    0\n",
       "X255    0\n",
       "X256    0\n",
       "ID      0\n",
       "Length: 360, dtype: int64"
      ]
     },
     "execution_count": 235,
     "metadata": {},
     "output_type": "execute_result"
    }
   ],
   "source": [
    "#Checking null values in testing data\n",
    "test.isnull().sum().sort_values(ascending = False)"
   ]
  },
  {
   "cell_type": "code",
   "execution_count": 236,
   "metadata": {},
   "outputs": [],
   "source": [
    "#Adding Type Column to the data for identification of Train and Test Data\n",
    "traindf['Type'] = 'Train'"
   ]
  },
  {
   "cell_type": "code",
   "execution_count": 237,
   "metadata": {},
   "outputs": [],
   "source": [
    "test['Type'] = 'Test'"
   ]
  },
  {
   "cell_type": "code",
   "execution_count": 238,
   "metadata": {},
   "outputs": [],
   "source": [
    "#Combine Train and Test DataFrames\n",
    "combinedata = pd.concat([traindf, test], axis = 0)"
   ]
  },
  {
   "cell_type": "code",
   "execution_count": 239,
   "metadata": {},
   "outputs": [
    {
     "data": {
      "text/html": [
       "<div>\n",
       "<style scoped>\n",
       "    .dataframe tbody tr th:only-of-type {\n",
       "        vertical-align: middle;\n",
       "    }\n",
       "\n",
       "    .dataframe tbody tr th {\n",
       "        vertical-align: top;\n",
       "    }\n",
       "\n",
       "    .dataframe thead th {\n",
       "        text-align: right;\n",
       "    }\n",
       "</style>\n",
       "<table border=\"1\" class=\"dataframe\">\n",
       "  <thead>\n",
       "    <tr style=\"text-align: right;\">\n",
       "      <th></th>\n",
       "      <th>ID</th>\n",
       "      <th>X0</th>\n",
       "      <th>X1</th>\n",
       "      <th>X2</th>\n",
       "      <th>X3</th>\n",
       "      <th>X4</th>\n",
       "      <th>X5</th>\n",
       "      <th>X6</th>\n",
       "      <th>X8</th>\n",
       "      <th>X10</th>\n",
       "      <th>...</th>\n",
       "      <th>X376</th>\n",
       "      <th>X377</th>\n",
       "      <th>X378</th>\n",
       "      <th>X379</th>\n",
       "      <th>X380</th>\n",
       "      <th>X382</th>\n",
       "      <th>X383</th>\n",
       "      <th>X384</th>\n",
       "      <th>X385</th>\n",
       "      <th>Type</th>\n",
       "    </tr>\n",
       "  </thead>\n",
       "  <tbody>\n",
       "    <tr>\n",
       "      <th>0</th>\n",
       "      <td>0</td>\n",
       "      <td>k</td>\n",
       "      <td>v</td>\n",
       "      <td>at</td>\n",
       "      <td>a</td>\n",
       "      <td>d</td>\n",
       "      <td>u</td>\n",
       "      <td>j</td>\n",
       "      <td>o</td>\n",
       "      <td>0</td>\n",
       "      <td>...</td>\n",
       "      <td>0</td>\n",
       "      <td>1</td>\n",
       "      <td>0</td>\n",
       "      <td>0</td>\n",
       "      <td>0</td>\n",
       "      <td>0</td>\n",
       "      <td>0</td>\n",
       "      <td>0</td>\n",
       "      <td>0</td>\n",
       "      <td>Train</td>\n",
       "    </tr>\n",
       "    <tr>\n",
       "      <th>1</th>\n",
       "      <td>6</td>\n",
       "      <td>k</td>\n",
       "      <td>t</td>\n",
       "      <td>av</td>\n",
       "      <td>e</td>\n",
       "      <td>d</td>\n",
       "      <td>y</td>\n",
       "      <td>l</td>\n",
       "      <td>o</td>\n",
       "      <td>0</td>\n",
       "      <td>...</td>\n",
       "      <td>0</td>\n",
       "      <td>0</td>\n",
       "      <td>0</td>\n",
       "      <td>0</td>\n",
       "      <td>0</td>\n",
       "      <td>0</td>\n",
       "      <td>0</td>\n",
       "      <td>0</td>\n",
       "      <td>0</td>\n",
       "      <td>Train</td>\n",
       "    </tr>\n",
       "  </tbody>\n",
       "</table>\n",
       "<p>2 rows × 361 columns</p>\n",
       "</div>"
      ],
      "text/plain": [
       "   ID X0 X1  X2 X3 X4 X5 X6 X8  X10  ...  X376  X377  X378  X379  X380  X382  \\\n",
       "0   0  k  v  at  a  d  u  j  o    0  ...     0     1     0     0     0     0   \n",
       "1   6  k  t  av  e  d  y  l  o    0  ...     0     0     0     0     0     0   \n",
       "\n",
       "   X383  X384  X385   Type  \n",
       "0     0     0     0  Train  \n",
       "1     0     0     0  Train  \n",
       "\n",
       "[2 rows x 361 columns]"
      ]
     },
     "execution_count": 239,
     "metadata": {},
     "output_type": "execute_result"
    }
   ],
   "source": [
    "combinedata.head(2)"
   ]
  },
  {
   "cell_type": "code",
   "execution_count": 240,
   "metadata": {},
   "outputs": [
    {
     "data": {
      "text/plain": [
       "Test     4209\n",
       "Train    4209\n",
       "Name: Type, dtype: int64"
      ]
     },
     "execution_count": 240,
     "metadata": {},
     "output_type": "execute_result"
    }
   ],
   "source": [
    "combinedata.Type.value_counts()"
   ]
  },
  {
   "cell_type": "code",
   "execution_count": 241,
   "metadata": {},
   "outputs": [],
   "source": [
    "#Sepearting Numeric and Object Data\n",
    "numericdf = combinedata.select_dtypes(include = np.number)\n",
    "objectdf = combinedata.select_dtypes(include=np.object)"
   ]
  },
  {
   "cell_type": "code",
   "execution_count": 242,
   "metadata": {},
   "outputs": [
    {
     "name": "stdout",
     "output_type": "stream",
     "text": [
      "Numeric Data  (8418, 352)\n",
      "Object Data  (8418, 9)\n"
     ]
    }
   ],
   "source": [
    "print(\"Numeric Data \", numericdf.shape)\n",
    "print(\"Object Data \", objectdf.shape)"
   ]
  },
  {
   "cell_type": "code",
   "execution_count": 243,
   "metadata": {},
   "outputs": [],
   "source": [
    "#Label Encoding the Object data\n",
    "from sklearn.preprocessing import LabelEncoder"
   ]
  },
  {
   "cell_type": "code",
   "execution_count": 244,
   "metadata": {},
   "outputs": [],
   "source": [
    "le = LabelEncoder()"
   ]
  },
  {
   "cell_type": "code",
   "execution_count": 245,
   "metadata": {},
   "outputs": [],
   "source": [
    "objectdatadf = objectdf.drop('Type', axis = 1)"
   ]
  },
  {
   "cell_type": "code",
   "execution_count": 246,
   "metadata": {},
   "outputs": [],
   "source": [
    "objectdatadf = objectdatadf.apply(le.fit_transform)"
   ]
  },
  {
   "cell_type": "code",
   "execution_count": 247,
   "metadata": {},
   "outputs": [
    {
     "data": {
      "text/html": [
       "<div>\n",
       "<style scoped>\n",
       "    .dataframe tbody tr th:only-of-type {\n",
       "        vertical-align: middle;\n",
       "    }\n",
       "\n",
       "    .dataframe tbody tr th {\n",
       "        vertical-align: top;\n",
       "    }\n",
       "\n",
       "    .dataframe thead th {\n",
       "        text-align: right;\n",
       "    }\n",
       "</style>\n",
       "<table border=\"1\" class=\"dataframe\">\n",
       "  <thead>\n",
       "    <tr style=\"text-align: right;\">\n",
       "      <th></th>\n",
       "      <th>X0</th>\n",
       "      <th>X1</th>\n",
       "      <th>X2</th>\n",
       "      <th>X3</th>\n",
       "      <th>X4</th>\n",
       "      <th>X5</th>\n",
       "      <th>X6</th>\n",
       "      <th>X8</th>\n",
       "    </tr>\n",
       "  </thead>\n",
       "  <tbody>\n",
       "    <tr>\n",
       "      <th>0</th>\n",
       "      <td>37</td>\n",
       "      <td>23</td>\n",
       "      <td>20</td>\n",
       "      <td>0</td>\n",
       "      <td>3</td>\n",
       "      <td>27</td>\n",
       "      <td>9</td>\n",
       "      <td>14</td>\n",
       "    </tr>\n",
       "    <tr>\n",
       "      <th>1</th>\n",
       "      <td>37</td>\n",
       "      <td>21</td>\n",
       "      <td>22</td>\n",
       "      <td>4</td>\n",
       "      <td>3</td>\n",
       "      <td>31</td>\n",
       "      <td>11</td>\n",
       "      <td>14</td>\n",
       "    </tr>\n",
       "  </tbody>\n",
       "</table>\n",
       "</div>"
      ],
      "text/plain": [
       "   X0  X1  X2  X3  X4  X5  X6  X8\n",
       "0  37  23  20   0   3  27   9  14\n",
       "1  37  21  22   4   3  31  11  14"
      ]
     },
     "execution_count": 247,
     "metadata": {},
     "output_type": "execute_result"
    }
   ],
   "source": [
    "objectdatadf.head(2) #Label Encoded Data "
   ]
  },
  {
   "cell_type": "code",
   "execution_count": 248,
   "metadata": {},
   "outputs": [],
   "source": [
    "objectdatadf['Type'] = objectdf.Type"
   ]
  },
  {
   "cell_type": "code",
   "execution_count": 249,
   "metadata": {},
   "outputs": [],
   "source": [
    "#Scaling Numeric Data\n",
    "from sklearn.preprocessing import StandardScaler"
   ]
  },
  {
   "cell_type": "code",
   "execution_count": 250,
   "metadata": {},
   "outputs": [],
   "source": [
    "scale = StandardScaler()"
   ]
  },
  {
   "cell_type": "code",
   "execution_count": 251,
   "metadata": {},
   "outputs": [],
   "source": [
    "numericdatadf = scale.fit_transform(numericdf)"
   ]
  },
  {
   "cell_type": "code",
   "execution_count": 252,
   "metadata": {},
   "outputs": [],
   "source": [
    "numericdatadf = pd.DataFrame(numericdatadf, columns=list(numericdf.columns))"
   ]
  },
  {
   "cell_type": "code",
   "execution_count": 253,
   "metadata": {},
   "outputs": [
    {
     "data": {
      "text/html": [
       "<div>\n",
       "<style scoped>\n",
       "    .dataframe tbody tr th:only-of-type {\n",
       "        vertical-align: middle;\n",
       "    }\n",
       "\n",
       "    .dataframe tbody tr th {\n",
       "        vertical-align: top;\n",
       "    }\n",
       "\n",
       "    .dataframe thead th {\n",
       "        text-align: right;\n",
       "    }\n",
       "</style>\n",
       "<table border=\"1\" class=\"dataframe\">\n",
       "  <thead>\n",
       "    <tr style=\"text-align: right;\">\n",
       "      <th></th>\n",
       "      <th>ID</th>\n",
       "      <th>X10</th>\n",
       "      <th>X12</th>\n",
       "      <th>X13</th>\n",
       "      <th>X14</th>\n",
       "      <th>X15</th>\n",
       "      <th>X16</th>\n",
       "      <th>X17</th>\n",
       "      <th>X18</th>\n",
       "      <th>X19</th>\n",
       "      <th>...</th>\n",
       "      <th>X375</th>\n",
       "      <th>X376</th>\n",
       "      <th>X377</th>\n",
       "      <th>X378</th>\n",
       "      <th>X379</th>\n",
       "      <th>X380</th>\n",
       "      <th>X382</th>\n",
       "      <th>X383</th>\n",
       "      <th>X384</th>\n",
       "      <th>X385</th>\n",
       "    </tr>\n",
       "  </thead>\n",
       "  <tbody>\n",
       "    <tr>\n",
       "      <th>0</th>\n",
       "      <td>-1.731845</td>\n",
       "      <td>-0.128145</td>\n",
       "      <td>-0.284174</td>\n",
       "      <td>3.975223</td>\n",
       "      <td>-0.865036</td>\n",
       "      <td>-0.024379</td>\n",
       "      <td>-0.051189</td>\n",
       "      <td>-0.090909</td>\n",
       "      <td>10.476791</td>\n",
       "      <td>-0.343623</td>\n",
       "      <td>...</td>\n",
       "      <td>-0.689787</td>\n",
       "      <td>-0.237647</td>\n",
       "      <td>1.480221</td>\n",
       "      <td>-0.142701</td>\n",
       "      <td>-0.103956</td>\n",
       "      <td>-0.090243</td>\n",
       "      <td>-0.090909</td>\n",
       "      <td>-0.032715</td>\n",
       "      <td>-0.024379</td>\n",
       "      <td>-0.039328</td>\n",
       "    </tr>\n",
       "    <tr>\n",
       "      <th>1</th>\n",
       "      <td>-1.729376</td>\n",
       "      <td>-0.128145</td>\n",
       "      <td>-0.284174</td>\n",
       "      <td>-0.251558</td>\n",
       "      <td>-0.865036</td>\n",
       "      <td>-0.024379</td>\n",
       "      <td>-0.051189</td>\n",
       "      <td>-0.090909</td>\n",
       "      <td>10.476791</td>\n",
       "      <td>-0.343623</td>\n",
       "      <td>...</td>\n",
       "      <td>1.449722</td>\n",
       "      <td>-0.237647</td>\n",
       "      <td>-0.675575</td>\n",
       "      <td>-0.142701</td>\n",
       "      <td>-0.103956</td>\n",
       "      <td>-0.090243</td>\n",
       "      <td>-0.090909</td>\n",
       "      <td>-0.032715</td>\n",
       "      <td>-0.024379</td>\n",
       "      <td>-0.039328</td>\n",
       "    </tr>\n",
       "  </tbody>\n",
       "</table>\n",
       "<p>2 rows × 352 columns</p>\n",
       "</div>"
      ],
      "text/plain": [
       "         ID       X10       X12       X13       X14       X15       X16  \\\n",
       "0 -1.731845 -0.128145 -0.284174  3.975223 -0.865036 -0.024379 -0.051189   \n",
       "1 -1.729376 -0.128145 -0.284174 -0.251558 -0.865036 -0.024379 -0.051189   \n",
       "\n",
       "        X17        X18       X19  ...      X375      X376      X377      X378  \\\n",
       "0 -0.090909  10.476791 -0.343623  ... -0.689787 -0.237647  1.480221 -0.142701   \n",
       "1 -0.090909  10.476791 -0.343623  ...  1.449722 -0.237647 -0.675575 -0.142701   \n",
       "\n",
       "       X379      X380      X382      X383      X384      X385  \n",
       "0 -0.103956 -0.090243 -0.090909 -0.032715 -0.024379 -0.039328  \n",
       "1 -0.103956 -0.090243 -0.090909 -0.032715 -0.024379 -0.039328  \n",
       "\n",
       "[2 rows x 352 columns]"
      ]
     },
     "execution_count": 253,
     "metadata": {},
     "output_type": "execute_result"
    }
   ],
   "source": [
    "numericdatadf.head(2)#Scaled Data"
   ]
  },
  {
   "cell_type": "code",
   "execution_count": 254,
   "metadata": {},
   "outputs": [],
   "source": [
    "numericdatadf.reset_index(inplace=True)\n",
    "objectdatadf.reset_index(inplace=True)\n",
    "combinefinal = pd.concat([numericdatadf, objectdatadf], axis = 1)"
   ]
  },
  {
   "cell_type": "code",
   "execution_count": 255,
   "metadata": {},
   "outputs": [
    {
     "data": {
      "text/html": [
       "<div>\n",
       "<style scoped>\n",
       "    .dataframe tbody tr th:only-of-type {\n",
       "        vertical-align: middle;\n",
       "    }\n",
       "\n",
       "    .dataframe tbody tr th {\n",
       "        vertical-align: top;\n",
       "    }\n",
       "\n",
       "    .dataframe thead th {\n",
       "        text-align: right;\n",
       "    }\n",
       "</style>\n",
       "<table border=\"1\" class=\"dataframe\">\n",
       "  <thead>\n",
       "    <tr style=\"text-align: right;\">\n",
       "      <th></th>\n",
       "      <th>index</th>\n",
       "      <th>ID</th>\n",
       "      <th>X10</th>\n",
       "      <th>X12</th>\n",
       "      <th>X13</th>\n",
       "      <th>X14</th>\n",
       "      <th>X15</th>\n",
       "      <th>X16</th>\n",
       "      <th>X17</th>\n",
       "      <th>X18</th>\n",
       "      <th>...</th>\n",
       "      <th>index</th>\n",
       "      <th>X0</th>\n",
       "      <th>X1</th>\n",
       "      <th>X2</th>\n",
       "      <th>X3</th>\n",
       "      <th>X4</th>\n",
       "      <th>X5</th>\n",
       "      <th>X6</th>\n",
       "      <th>X8</th>\n",
       "      <th>Type</th>\n",
       "    </tr>\n",
       "  </thead>\n",
       "  <tbody>\n",
       "    <tr>\n",
       "      <th>0</th>\n",
       "      <td>0</td>\n",
       "      <td>-1.731845</td>\n",
       "      <td>-0.128145</td>\n",
       "      <td>-0.284174</td>\n",
       "      <td>3.975223</td>\n",
       "      <td>-0.865036</td>\n",
       "      <td>-0.024379</td>\n",
       "      <td>-0.051189</td>\n",
       "      <td>-0.090909</td>\n",
       "      <td>10.476791</td>\n",
       "      <td>...</td>\n",
       "      <td>0</td>\n",
       "      <td>37</td>\n",
       "      <td>23</td>\n",
       "      <td>20</td>\n",
       "      <td>0</td>\n",
       "      <td>3</td>\n",
       "      <td>27</td>\n",
       "      <td>9</td>\n",
       "      <td>14</td>\n",
       "      <td>Train</td>\n",
       "    </tr>\n",
       "    <tr>\n",
       "      <th>1</th>\n",
       "      <td>1</td>\n",
       "      <td>-1.729376</td>\n",
       "      <td>-0.128145</td>\n",
       "      <td>-0.284174</td>\n",
       "      <td>-0.251558</td>\n",
       "      <td>-0.865036</td>\n",
       "      <td>-0.024379</td>\n",
       "      <td>-0.051189</td>\n",
       "      <td>-0.090909</td>\n",
       "      <td>10.476791</td>\n",
       "      <td>...</td>\n",
       "      <td>1</td>\n",
       "      <td>37</td>\n",
       "      <td>21</td>\n",
       "      <td>22</td>\n",
       "      <td>4</td>\n",
       "      <td>3</td>\n",
       "      <td>31</td>\n",
       "      <td>11</td>\n",
       "      <td>14</td>\n",
       "      <td>Train</td>\n",
       "    </tr>\n",
       "  </tbody>\n",
       "</table>\n",
       "<p>2 rows × 363 columns</p>\n",
       "</div>"
      ],
      "text/plain": [
       "   index        ID       X10       X12       X13       X14       X15  \\\n",
       "0      0 -1.731845 -0.128145 -0.284174  3.975223 -0.865036 -0.024379   \n",
       "1      1 -1.729376 -0.128145 -0.284174 -0.251558 -0.865036 -0.024379   \n",
       "\n",
       "        X16       X17        X18  ...  index  X0  X1  X2  X3  X4  X5  X6  X8  \\\n",
       "0 -0.051189 -0.090909  10.476791  ...      0  37  23  20   0   3  27   9  14   \n",
       "1 -0.051189 -0.090909  10.476791  ...      1  37  21  22   4   3  31  11  14   \n",
       "\n",
       "    Type  \n",
       "0  Train  \n",
       "1  Train  \n",
       "\n",
       "[2 rows x 363 columns]"
      ]
     },
     "execution_count": 255,
     "metadata": {},
     "output_type": "execute_result"
    }
   ],
   "source": [
    "combinefinal.head(2)"
   ]
  },
  {
   "cell_type": "code",
   "execution_count": 256,
   "metadata": {},
   "outputs": [],
   "source": [
    "combinefinal.drop(['index','ID'], axis = 1, inplace=True)"
   ]
  },
  {
   "cell_type": "code",
   "execution_count": 257,
   "metadata": {},
   "outputs": [],
   "source": [
    "traindf = combinefinal[combinefinal.Type == 'Train']"
   ]
  },
  {
   "cell_type": "code",
   "execution_count": 258,
   "metadata": {},
   "outputs": [
    {
     "data": {
      "text/html": [
       "<div>\n",
       "<style scoped>\n",
       "    .dataframe tbody tr th:only-of-type {\n",
       "        vertical-align: middle;\n",
       "    }\n",
       "\n",
       "    .dataframe tbody tr th {\n",
       "        vertical-align: top;\n",
       "    }\n",
       "\n",
       "    .dataframe thead th {\n",
       "        text-align: right;\n",
       "    }\n",
       "</style>\n",
       "<table border=\"1\" class=\"dataframe\">\n",
       "  <thead>\n",
       "    <tr style=\"text-align: right;\">\n",
       "      <th></th>\n",
       "      <th>X10</th>\n",
       "      <th>X12</th>\n",
       "      <th>X13</th>\n",
       "      <th>X14</th>\n",
       "      <th>X15</th>\n",
       "      <th>X16</th>\n",
       "      <th>X17</th>\n",
       "      <th>X18</th>\n",
       "      <th>X19</th>\n",
       "      <th>X20</th>\n",
       "      <th>...</th>\n",
       "      <th>X385</th>\n",
       "      <th>X0</th>\n",
       "      <th>X1</th>\n",
       "      <th>X2</th>\n",
       "      <th>X3</th>\n",
       "      <th>X4</th>\n",
       "      <th>X5</th>\n",
       "      <th>X6</th>\n",
       "      <th>X8</th>\n",
       "      <th>Type</th>\n",
       "    </tr>\n",
       "  </thead>\n",
       "  <tbody>\n",
       "    <tr>\n",
       "      <th>0</th>\n",
       "      <td>-0.128145</td>\n",
       "      <td>-0.284174</td>\n",
       "      <td>3.975223</td>\n",
       "      <td>-0.865036</td>\n",
       "      <td>-0.024379</td>\n",
       "      <td>-0.051189</td>\n",
       "      <td>-0.090909</td>\n",
       "      <td>10.476791</td>\n",
       "      <td>-0.343623</td>\n",
       "      <td>-0.405358</td>\n",
       "      <td>...</td>\n",
       "      <td>-0.039328</td>\n",
       "      <td>37</td>\n",
       "      <td>23</td>\n",
       "      <td>20</td>\n",
       "      <td>0</td>\n",
       "      <td>3</td>\n",
       "      <td>27</td>\n",
       "      <td>9</td>\n",
       "      <td>14</td>\n",
       "      <td>Train</td>\n",
       "    </tr>\n",
       "    <tr>\n",
       "      <th>1</th>\n",
       "      <td>-0.128145</td>\n",
       "      <td>-0.284174</td>\n",
       "      <td>-0.251558</td>\n",
       "      <td>-0.865036</td>\n",
       "      <td>-0.024379</td>\n",
       "      <td>-0.051189</td>\n",
       "      <td>-0.090909</td>\n",
       "      <td>10.476791</td>\n",
       "      <td>-0.343623</td>\n",
       "      <td>-0.405358</td>\n",
       "      <td>...</td>\n",
       "      <td>-0.039328</td>\n",
       "      <td>37</td>\n",
       "      <td>21</td>\n",
       "      <td>22</td>\n",
       "      <td>4</td>\n",
       "      <td>3</td>\n",
       "      <td>31</td>\n",
       "      <td>11</td>\n",
       "      <td>14</td>\n",
       "      <td>Train</td>\n",
       "    </tr>\n",
       "  </tbody>\n",
       "</table>\n",
       "<p>2 rows × 360 columns</p>\n",
       "</div>"
      ],
      "text/plain": [
       "        X10       X12       X13       X14       X15       X16       X17  \\\n",
       "0 -0.128145 -0.284174  3.975223 -0.865036 -0.024379 -0.051189 -0.090909   \n",
       "1 -0.128145 -0.284174 -0.251558 -0.865036 -0.024379 -0.051189 -0.090909   \n",
       "\n",
       "         X18       X19       X20  ...      X385  X0  X1  X2  X3  X4  X5  X6  \\\n",
       "0  10.476791 -0.343623 -0.405358  ... -0.039328  37  23  20   0   3  27   9   \n",
       "1  10.476791 -0.343623 -0.405358  ... -0.039328  37  21  22   4   3  31  11   \n",
       "\n",
       "   X8   Type  \n",
       "0  14  Train  \n",
       "1  14  Train  \n",
       "\n",
       "[2 rows x 360 columns]"
      ]
     },
     "execution_count": 258,
     "metadata": {},
     "output_type": "execute_result"
    }
   ],
   "source": [
    "traindf.head(2)"
   ]
  },
  {
   "cell_type": "code",
   "execution_count": 259,
   "metadata": {},
   "outputs": [
    {
     "name": "stderr",
     "output_type": "stream",
     "text": [
      "D:\\anaconda3\\lib\\site-packages\\pandas\\core\\frame.py:3990: SettingWithCopyWarning: \n",
      "A value is trying to be set on a copy of a slice from a DataFrame\n",
      "\n",
      "See the caveats in the documentation: https://pandas.pydata.org/pandas-docs/stable/user_guide/indexing.html#returning-a-view-versus-a-copy\n",
      "  return super().drop(\n"
     ]
    }
   ],
   "source": [
    "traindf.drop('Type', axis = 1, inplace = True)"
   ]
  },
  {
   "cell_type": "code",
   "execution_count": 260,
   "metadata": {},
   "outputs": [
    {
     "data": {
      "text/html": [
       "<div>\n",
       "<style scoped>\n",
       "    .dataframe tbody tr th:only-of-type {\n",
       "        vertical-align: middle;\n",
       "    }\n",
       "\n",
       "    .dataframe tbody tr th {\n",
       "        vertical-align: top;\n",
       "    }\n",
       "\n",
       "    .dataframe thead th {\n",
       "        text-align: right;\n",
       "    }\n",
       "</style>\n",
       "<table border=\"1\" class=\"dataframe\">\n",
       "  <thead>\n",
       "    <tr style=\"text-align: right;\">\n",
       "      <th></th>\n",
       "      <th>X10</th>\n",
       "      <th>X12</th>\n",
       "      <th>X13</th>\n",
       "      <th>X14</th>\n",
       "      <th>X15</th>\n",
       "      <th>X16</th>\n",
       "      <th>X17</th>\n",
       "      <th>X18</th>\n",
       "      <th>X19</th>\n",
       "      <th>X20</th>\n",
       "      <th>...</th>\n",
       "      <th>X384</th>\n",
       "      <th>X385</th>\n",
       "      <th>X0</th>\n",
       "      <th>X1</th>\n",
       "      <th>X2</th>\n",
       "      <th>X3</th>\n",
       "      <th>X4</th>\n",
       "      <th>X5</th>\n",
       "      <th>X6</th>\n",
       "      <th>X8</th>\n",
       "    </tr>\n",
       "  </thead>\n",
       "  <tbody>\n",
       "    <tr>\n",
       "      <th>0</th>\n",
       "      <td>-0.128145</td>\n",
       "      <td>-0.284174</td>\n",
       "      <td>3.975223</td>\n",
       "      <td>-0.865036</td>\n",
       "      <td>-0.024379</td>\n",
       "      <td>-0.051189</td>\n",
       "      <td>-0.090909</td>\n",
       "      <td>10.476791</td>\n",
       "      <td>-0.343623</td>\n",
       "      <td>-0.405358</td>\n",
       "      <td>...</td>\n",
       "      <td>-0.024379</td>\n",
       "      <td>-0.039328</td>\n",
       "      <td>37</td>\n",
       "      <td>23</td>\n",
       "      <td>20</td>\n",
       "      <td>0</td>\n",
       "      <td>3</td>\n",
       "      <td>27</td>\n",
       "      <td>9</td>\n",
       "      <td>14</td>\n",
       "    </tr>\n",
       "    <tr>\n",
       "      <th>1</th>\n",
       "      <td>-0.128145</td>\n",
       "      <td>-0.284174</td>\n",
       "      <td>-0.251558</td>\n",
       "      <td>-0.865036</td>\n",
       "      <td>-0.024379</td>\n",
       "      <td>-0.051189</td>\n",
       "      <td>-0.090909</td>\n",
       "      <td>10.476791</td>\n",
       "      <td>-0.343623</td>\n",
       "      <td>-0.405358</td>\n",
       "      <td>...</td>\n",
       "      <td>-0.024379</td>\n",
       "      <td>-0.039328</td>\n",
       "      <td>37</td>\n",
       "      <td>21</td>\n",
       "      <td>22</td>\n",
       "      <td>4</td>\n",
       "      <td>3</td>\n",
       "      <td>31</td>\n",
       "      <td>11</td>\n",
       "      <td>14</td>\n",
       "    </tr>\n",
       "  </tbody>\n",
       "</table>\n",
       "<p>2 rows × 359 columns</p>\n",
       "</div>"
      ],
      "text/plain": [
       "        X10       X12       X13       X14       X15       X16       X17  \\\n",
       "0 -0.128145 -0.284174  3.975223 -0.865036 -0.024379 -0.051189 -0.090909   \n",
       "1 -0.128145 -0.284174 -0.251558 -0.865036 -0.024379 -0.051189 -0.090909   \n",
       "\n",
       "         X18       X19       X20  ...      X384      X385  X0  X1  X2  X3  X4  \\\n",
       "0  10.476791 -0.343623 -0.405358  ... -0.024379 -0.039328  37  23  20   0   3   \n",
       "1  10.476791 -0.343623 -0.405358  ... -0.024379 -0.039328  37  21  22   4   3   \n",
       "\n",
       "   X5  X6  X8  \n",
       "0  27   9  14  \n",
       "1  31  11  14  \n",
       "\n",
       "[2 rows x 359 columns]"
      ]
     },
     "execution_count": 260,
     "metadata": {},
     "output_type": "execute_result"
    }
   ],
   "source": [
    "traindf.head(2)"
   ]
  },
  {
   "cell_type": "code",
   "execution_count": 261,
   "metadata": {},
   "outputs": [],
   "source": [
    "testdf = combinefinal[combinefinal.Type == 'Test']"
   ]
  },
  {
   "cell_type": "code",
   "execution_count": 262,
   "metadata": {},
   "outputs": [
    {
     "name": "stderr",
     "output_type": "stream",
     "text": [
      "D:\\anaconda3\\lib\\site-packages\\pandas\\core\\frame.py:3990: SettingWithCopyWarning: \n",
      "A value is trying to be set on a copy of a slice from a DataFrame\n",
      "\n",
      "See the caveats in the documentation: https://pandas.pydata.org/pandas-docs/stable/user_guide/indexing.html#returning-a-view-versus-a-copy\n",
      "  return super().drop(\n"
     ]
    }
   ],
   "source": [
    "testdf.drop('Type', axis = 1, inplace=True)"
   ]
  },
  {
   "cell_type": "code",
   "execution_count": 263,
   "metadata": {},
   "outputs": [],
   "source": [
    "#Now Performing DImensionality Reduction"
   ]
  },
  {
   "cell_type": "code",
   "execution_count": 264,
   "metadata": {},
   "outputs": [],
   "source": [
    "from sklearn.decomposition import PCA #Importing PCA "
   ]
  },
  {
   "cell_type": "code",
   "execution_count": 265,
   "metadata": {},
   "outputs": [],
   "source": [
    "pca = PCA(n_components=182)"
   ]
  },
  {
   "cell_type": "code",
   "execution_count": 266,
   "metadata": {},
   "outputs": [],
   "source": [
    "pcamodel = pca.fit(traindf)"
   ]
  },
  {
   "cell_type": "code",
   "execution_count": 267,
   "metadata": {},
   "outputs": [],
   "source": [
    "trainvariance = pcamodel.explained_variance_ratio_"
   ]
  },
  {
   "cell_type": "code",
   "execution_count": 268,
   "metadata": {},
   "outputs": [],
   "source": [
    "trainvariancerounded = np.cumsum(np.round(trainvariance, decimals=4)*100)"
   ]
  },
  {
   "cell_type": "code",
   "execution_count": 269,
   "metadata": {},
   "outputs": [
    {
     "data": {
      "text/plain": [
       "[<matplotlib.lines.Line2D at 0x219aa9b47c0>]"
      ]
     },
     "execution_count": 269,
     "metadata": {},
     "output_type": "execute_result"
    },
    {
     "data": {
      "image/png": "[encoded data removed]",
      "text/plain": [
       "<Figure size 432x288 with 1 Axes>"
      ]
     },
     "metadata": {
      "needs_background": "light"
     },
     "output_type": "display_data"
    }
   ],
   "source": [
    "plt.plot(trainvariancerounded) #Variance Plot"
   ]
  },
  {
   "cell_type": "code",
   "execution_count": 270,
   "metadata": {},
   "outputs": [
    {
     "data": {
      "text/plain": [
       "array([27.17, 41.8 , 50.38, 57.83, 63.18, 65.56, 67.6 , 69.05, 70.38,\n",
       "       71.6 , 72.72, 73.8 , 74.67, 75.5 , 76.23, 76.92, 77.54, 78.14,\n",
       "       78.72, 79.27, 79.77, 80.24, 80.69, 81.11, 81.53, 81.91, 82.29,\n",
       "       82.64, 82.99, 83.33, 83.64, 83.94, 84.23, 84.51, 84.78, 85.05,\n",
       "       85.31, 85.57, 85.83, 86.07, 86.31, 86.54, 86.77, 86.99, 87.21,\n",
       "       87.42, 87.63, 87.84, 88.04, 88.23, 88.42, 88.6 , 88.78, 88.96,\n",
       "       89.14, 89.31, 89.48, 89.64, 89.8 , 89.96, 90.12, 90.27, 90.42,\n",
       "       90.57, 90.71, 90.85, 90.99, 91.13, 91.27, 91.41, 91.55, 91.68,\n",
       "       91.81, 91.94, 92.07, 92.2 , 92.33, 92.45, 92.57, 92.69, 92.81,\n",
       "       92.93, 93.05, 93.17, 93.28, 93.39, 93.5 , 93.61, 93.72, 93.83,\n",
       "       93.94, 94.04, 94.14, 94.24, 94.34, 94.44, 94.54, 94.64, 94.74,\n",
       "       94.84, 94.94, 95.04, 95.13, 95.22, 95.31, 95.4 , 95.49, 95.58,\n",
       "       95.67, 95.76, 95.85, 95.94, 96.02, 96.1 , 96.18, 96.26, 96.34,\n",
       "       96.42, 96.5 , 96.58, 96.66, 96.73, 96.8 , 96.87, 96.94, 97.01,\n",
       "       97.08, 97.15, 97.22, 97.29, 97.36, 97.42, 97.48, 97.54, 97.6 ,\n",
       "       97.66, 97.72, 97.78, 97.84, 97.9 , 97.96, 98.01, 98.06, 98.11,\n",
       "       98.16, 98.21, 98.26, 98.31, 98.36, 98.41, 98.45, 98.49, 98.53,\n",
       "       98.57, 98.61, 98.65, 98.69, 98.73, 98.77, 98.81, 98.85, 98.88,\n",
       "       98.91, 98.94, 98.97, 99.  , 99.03, 99.06, 99.09, 99.12, 99.15,\n",
       "       99.18, 99.21, 99.24, 99.27, 99.3 , 99.32, 99.34, 99.36, 99.38,\n",
       "       99.4 , 99.42])"
      ]
     },
     "execution_count": 270,
     "metadata": {},
     "output_type": "execute_result"
    }
   ],
   "source": [
    "trainvariancerounded"
   ]
  },
  {
   "cell_type": "code",
   "execution_count": 271,
   "metadata": {},
   "outputs": [],
   "source": [
    "pca = PCA(n_components=30)#Creating PCA with 30 components"
   ]
  },
  {
   "cell_type": "code",
   "execution_count": 272,
   "metadata": {},
   "outputs": [],
   "source": [
    "pcamodel = pca.fit(traindf)"
   ]
  },
  {
   "cell_type": "code",
   "execution_count": 273,
   "metadata": {},
   "outputs": [],
   "source": [
    "pcatrain = pcamodel.transform(traindf)"
   ]
  },
  {
   "cell_type": "code",
   "execution_count": 274,
   "metadata": {},
   "outputs": [],
   "source": [
    "pcatest = pcamodel.transform(testdf)"
   ]
  },
  {
   "cell_type": "code",
   "execution_count": 275,
   "metadata": {},
   "outputs": [],
   "source": [
    "#Training Data and Target Column y(Log Transformed)\n",
    "X = pcatrain\n",
    "y = np.log(train.y)"
   ]
  },
  {
   "cell_type": "code",
   "execution_count": 276,
   "metadata": {},
   "outputs": [],
   "source": [
    "from xgboost import XGBRegressor#Import XGBoost"
   ]
  },
  {
   "cell_type": "code",
   "execution_count": 277,
   "metadata": {},
   "outputs": [],
   "source": [
    "xgb = XGBRegressor(n_estimators = 1000, max_depth = 10)"
   ]
  },
  {
   "cell_type": "code",
   "execution_count": 278,
   "metadata": {},
   "outputs": [],
   "source": [
    "xgbmodel = xgb.fit(X,y)#Fitting Training Data"
   ]
  },
  {
   "cell_type": "code",
   "execution_count": 279,
   "metadata": {},
   "outputs": [
    {
     "data": {
      "text/plain": [
       "0.9747852291755756"
      ]
     },
     "execution_count": 279,
     "metadata": {},
     "output_type": "execute_result"
    }
   ],
   "source": [
    "xgbmodel.score(X,y)#Rsquare Value of Model"
   ]
  },
  {
   "cell_type": "code",
   "execution_count": 280,
   "metadata": {},
   "outputs": [],
   "source": [
    "ypred = xgb.predict(X)#Predicting Values using Model"
   ]
  },
  {
   "cell_type": "code",
   "execution_count": 281,
   "metadata": {},
   "outputs": [
    {
     "data": {
      "text/plain": [
       "[<matplotlib.lines.Line2D at 0x219aabed850>]"
      ]
     },
     "execution_count": 281,
     "metadata": {},
     "output_type": "execute_result"
    },
    {
     "data": {
      "image/png": "[encoded data removed]",
      "text/plain": [
       "<Figure size 432x288 with 1 Axes>"
      ]
     },
     "metadata": {
      "needs_background": "light"
     },
     "output_type": "display_data"
    }
   ],
   "source": [
    "plt.plot(np.exp(y), np.exp(ypred), 'b.')#Predicted Value against Actual values\n",
    "                                        "
   ]
  },
  {
   "cell_type": "code",
   "execution_count": 282,
   "metadata": {},
   "outputs": [],
   "source": [
    "from sklearn.metrics import mean_squared_error"
   ]
  },
  {
   "cell_type": "code",
   "execution_count": 283,
   "metadata": {},
   "outputs": [
    {
     "data": {
      "text/plain": [
       "2.1503932989005534"
      ]
     },
     "execution_count": 283,
     "metadata": {},
     "output_type": "execute_result"
    }
   ],
   "source": [
    "np.sqrt(mean_squared_error(np.exp(ypred), np.exp(y)))#RMSE Value"
   ]
  },
  {
   "cell_type": "code",
   "execution_count": 284,
   "metadata": {},
   "outputs": [],
   "source": [
    "ytestpred = xgb.predict(pcatest)"
   ]
  },
  {
   "cell_type": "code",
   "execution_count": 285,
   "metadata": {},
   "outputs": [
    {
     "data": {
      "text/plain": [
       "array([ 81.826454, 106.46996 ,  81.3379  , ...,  94.45386 , 108.692085,\n",
       "        91.49676 ], dtype=float32)"
      ]
     },
     "execution_count": 285,
     "metadata": {},
     "output_type": "execute_result"
    }
   ],
   "source": [
    "np.exp(ytestpred)#Predicted Test Values"
   ]
  },
  {
   "cell_type": "code",
   "execution_count": null,
   "metadata": {},
   "outputs": [],
   "source": []
  }
 ],
 "metadata": {
  "kernelspec": {
   "display_name": "Python 3",
   "language": "python",
   "name": "python3"
  },
  "language_info": {
   "codemirror_mode": {
    "name": "ipython",
    "version": 3
   },
   "file_extension": ".py",
   "mimetype": "text/x-python",
   "name": "python",
   "nbconvert_exporter": "python",
   "pygments_lexer": "ipython3",
   "version": "3.8.3"
  }
 },
 "nbformat": 4,
 "nbformat_minor": 4
}
